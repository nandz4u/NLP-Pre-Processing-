{
 "cells": [
  {
   "cell_type": "markdown",
   "metadata": {
    "colab_type": "text",
    "id": "sysM5pCMkdhL"
   },
   "source": [
    "Importing required Libraries"
   ]
  },
  {
   "cell_type": "code",
   "execution_count": 1,
   "metadata": {
    "colab": {},
    "colab_type": "code",
    "id": "7aWZ4ZQPLNVp"
   },
   "outputs": [],
   "source": [
    "import numpy as np\n",
    "import pandas as pd\n",
    "import re"
   ]
  },
  {
   "cell_type": "markdown",
   "metadata": {
    "colab_type": "text",
    "id": "QF6l_XWK0PgY"
   },
   "source": [
    "######### Raw Data Dump"
   ]
  },
  {
   "cell_type": "code",
   "execution_count": 2,
   "metadata": {
    "colab": {},
    "colab_type": "code",
    "id": "ahT_gxngmdlY"
   },
   "outputs": [],
   "source": [
    "twitter_data = pd.read_excel(\"Compiled Data (Covid Apr).xlsx\")"
   ]
  },
  {
   "cell_type": "code",
   "execution_count": 3,
   "metadata": {
    "colab": {
     "base_uri": "https://localhost:8080/",
     "height": 111
    },
    "colab_type": "code",
    "id": "aNiRMpDJkXTg",
    "outputId": "cb665a3a-74a4-4ee5-a15d-b1c5b5e3b764"
   },
   "outputs": [
    {
     "data": {
      "text/html": [
       "<div>\n",
       "<style scoped>\n",
       "    .dataframe tbody tr th:only-of-type {\n",
       "        vertical-align: middle;\n",
       "    }\n",
       "\n",
       "    .dataframe tbody tr th {\n",
       "        vertical-align: top;\n",
       "    }\n",
       "\n",
       "    .dataframe thead th {\n",
       "        text-align: right;\n",
       "    }\n",
       "</style>\n",
       "<table border=\"1\" class=\"dataframe\">\n",
       "  <thead>\n",
       "    <tr style=\"text-align: right;\">\n",
       "      <th></th>\n",
       "      <th>Id</th>\n",
       "      <th>Timestamp</th>\n",
       "      <th>Source</th>\n",
       "      <th>Retwwet_Count</th>\n",
       "      <th>User_Name</th>\n",
       "      <th>Location</th>\n",
       "      <th>Tweets</th>\n",
       "    </tr>\n",
       "  </thead>\n",
       "  <tbody>\n",
       "    <tr>\n",
       "      <th>0</th>\n",
       "      <td>1244239930341100032</td>\n",
       "      <td>2020-03-29 12:28:10</td>\n",
       "      <td>Twitter Web App</td>\n",
       "      <td>0</td>\n",
       "      <td>Mamaa</td>\n",
       "      <td>NaN</td>\n",
       "      <td>@iam_davidwilson Please how are you guys adjus...</td>\n",
       "    </tr>\n",
       "    <tr>\n",
       "      <th>1</th>\n",
       "      <td>1244239930123049984</td>\n",
       "      <td>2020-03-29 12:28:10</td>\n",
       "      <td>Twitter for Android</td>\n",
       "      <td>0</td>\n",
       "      <td>Opemi Dmh</td>\n",
       "      <td>NaN</td>\n",
       "      <td>@LisaMelz First Name: CORONA\\nSurname: VIRUS \\...</td>\n",
       "    </tr>\n",
       "  </tbody>\n",
       "</table>\n",
       "</div>"
      ],
      "text/plain": [
       "                    Id            Timestamp               Source  \\\n",
       "0  1244239930341100032  2020-03-29 12:28:10      Twitter Web App   \n",
       "1  1244239930123049984  2020-03-29 12:28:10  Twitter for Android   \n",
       "\n",
       "   Retwwet_Count  User_Name Location  \\\n",
       "0              0      Mamaa      NaN   \n",
       "1              0  Opemi Dmh      NaN   \n",
       "\n",
       "                                              Tweets  \n",
       "0  @iam_davidwilson Please how are you guys adjus...  \n",
       "1  @LisaMelz First Name: CORONA\\nSurname: VIRUS \\...  "
      ]
     },
     "execution_count": 3,
     "metadata": {},
     "output_type": "execute_result"
    }
   ],
   "source": [
    "twitter_data.head(2)"
   ]
  },
  {
   "cell_type": "code",
   "execution_count": 4,
   "metadata": {
    "colab": {},
    "colab_type": "code",
    "id": "4uyAf0X1rzgK"
   },
   "outputs": [],
   "source": [
    "twitter_data = twitter_data.rename(columns = {'Tweets':'tweets'})"
   ]
  },
  {
   "cell_type": "code",
   "execution_count": 5,
   "metadata": {
    "colab": {},
    "colab_type": "code",
    "id": "sJGmxzDQpYQS"
   },
   "outputs": [],
   "source": [
    "twitter_data=pd.DataFrame(twitter_data)"
   ]
  },
  {
   "cell_type": "code",
   "execution_count": 6,
   "metadata": {
    "colab": {
     "base_uri": "https://localhost:8080/",
     "height": 34
    },
    "colab_type": "code",
    "id": "KyPzBaLopmch",
    "outputId": "52321c3a-6e54-4b5e-89a2-f8c1cf6c8f85"
   },
   "outputs": [
    {
     "data": {
      "text/plain": [
       "(126043, 7)"
      ]
     },
     "execution_count": 6,
     "metadata": {},
     "output_type": "execute_result"
    }
   ],
   "source": [
    "twitter_data.shape"
   ]
  },
  {
   "cell_type": "code",
   "execution_count": 7,
   "metadata": {
    "colab": {},
    "colab_type": "code",
    "id": "RiDXfIefgg4Z"
   },
   "outputs": [],
   "source": [
    "twitter_data=twitter_data.drop(columns = 'Location', axis = 1)"
   ]
  },
  {
   "cell_type": "code",
   "execution_count": 8,
   "metadata": {
    "colab": {},
    "colab_type": "code",
    "id": "wZC9A7HFoxha"
   },
   "outputs": [],
   "source": [
    "twitter_data= twitter_data.drop_duplicates()"
   ]
  },
  {
   "cell_type": "code",
   "execution_count": 9,
   "metadata": {
    "colab": {
     "base_uri": "https://localhost:8080/",
     "height": 34
    },
    "colab_type": "code",
    "id": "YD7qOKPokvtQ",
    "outputId": "86ec8019-60ac-4584-8508-10d0379dc9cc"
   },
   "outputs": [
    {
     "data": {
      "text/plain": [
       "(126031, 6)"
      ]
     },
     "execution_count": 9,
     "metadata": {},
     "output_type": "execute_result"
    }
   ],
   "source": [
    "twitter_data.shape"
   ]
  },
  {
   "cell_type": "code",
   "execution_count": 10,
   "metadata": {
    "colab": {},
    "colab_type": "code",
    "id": "oh3WHmXM_VTy"
   },
   "outputs": [],
   "source": [
    "twitter_data.iloc[:,5] = twitter_data.iloc[:,5].apply(str)"
   ]
  },
  {
   "cell_type": "markdown",
   "metadata": {
    "colab_type": "text",
    "id": "S3VgpCoth2_B"
   },
   "source": [
    "Pre Processing - Removing unwanted Characters"
   ]
  },
  {
   "cell_type": "code",
   "execution_count": 11,
   "metadata": {
    "colab": {
     "base_uri": "https://localhost:8080/",
     "height": 111
    },
    "colab_type": "code",
    "id": "jdd6tM5ViZWz",
    "outputId": "19c4584a-1aa5-4776-e6c0-5e97be5fe6c4"
   },
   "outputs": [
    {
     "data": {
      "text/html": [
       "<div>\n",
       "<style scoped>\n",
       "    .dataframe tbody tr th:only-of-type {\n",
       "        vertical-align: middle;\n",
       "    }\n",
       "\n",
       "    .dataframe tbody tr th {\n",
       "        vertical-align: top;\n",
       "    }\n",
       "\n",
       "    .dataframe thead th {\n",
       "        text-align: right;\n",
       "    }\n",
       "</style>\n",
       "<table border=\"1\" class=\"dataframe\">\n",
       "  <thead>\n",
       "    <tr style=\"text-align: right;\">\n",
       "      <th></th>\n",
       "      <th>Id</th>\n",
       "      <th>Timestamp</th>\n",
       "      <th>Source</th>\n",
       "      <th>Retwwet_Count</th>\n",
       "      <th>User_Name</th>\n",
       "      <th>tweets</th>\n",
       "    </tr>\n",
       "  </thead>\n",
       "  <tbody>\n",
       "    <tr>\n",
       "      <th>0</th>\n",
       "      <td>1244239930341100032</td>\n",
       "      <td>2020-03-29 12:28:10</td>\n",
       "      <td>Twitter Web App</td>\n",
       "      <td>0</td>\n",
       "      <td>Mamaa</td>\n",
       "      <td>@iam_davidwilson Please how are you guys adjus...</td>\n",
       "    </tr>\n",
       "    <tr>\n",
       "      <th>1</th>\n",
       "      <td>1244239930123049984</td>\n",
       "      <td>2020-03-29 12:28:10</td>\n",
       "      <td>Twitter for Android</td>\n",
       "      <td>0</td>\n",
       "      <td>Opemi Dmh</td>\n",
       "      <td>@LisaMelz First Name: CORONA\\nSurname: VIRUS \\...</td>\n",
       "    </tr>\n",
       "  </tbody>\n",
       "</table>\n",
       "</div>"
      ],
      "text/plain": [
       "                    Id            Timestamp               Source  \\\n",
       "0  1244239930341100032  2020-03-29 12:28:10      Twitter Web App   \n",
       "1  1244239930123049984  2020-03-29 12:28:10  Twitter for Android   \n",
       "\n",
       "   Retwwet_Count  User_Name                                             tweets  \n",
       "0              0      Mamaa  @iam_davidwilson Please how are you guys adjus...  \n",
       "1              0  Opemi Dmh  @LisaMelz First Name: CORONA\\nSurname: VIRUS \\...  "
      ]
     },
     "execution_count": 11,
     "metadata": {},
     "output_type": "execute_result"
    }
   ],
   "source": [
    "twitter_data.head(2)"
   ]
  },
  {
   "cell_type": "markdown",
   "metadata": {
    "colab_type": "text",
    "id": "M2hsYW-9i0TR"
   },
   "source": [
    "Pre Processing\n",
    "Remove Punctuations"
   ]
  },
  {
   "cell_type": "code",
   "execution_count": 12,
   "metadata": {
    "colab": {},
    "colab_type": "code",
    "id": "vkQsR9WAfuIM"
   },
   "outputs": [],
   "source": [
    "twitter_data.iloc[:,5] = twitter_data.iloc[:,5].str.replace(r'https(\\S)+', r' ')\n",
    "twitter_data.iloc[:,5] = twitter_data.iloc[:,5].str.replace(r'http ...', r' ')\n",
    "\n",
    "twitter_data.iloc[:,5] = twitter_data.iloc[:,5].str.replace(r'(RT|rt)[ ]*@[ ]*[\\S]+',r' ')\n",
    "twitter_data.iloc[:,5] = twitter_data.iloc[:,5].str.replace(r'@[\\S]+',r' ')\n",
    "\n",
    "twitter_data.iloc[:,5] = twitter_data.iloc[:,5].str.replace('http', '')"
   ]
  },
  {
   "cell_type": "code",
   "execution_count": 13,
   "metadata": {
    "colab": {
     "base_uri": "https://localhost:8080/",
     "height": 204
    },
    "colab_type": "code",
    "id": "UaxfzmFgNV53",
    "outputId": "d7ace4f3-e82f-4ab3-d42c-6f00b2b9c572"
   },
   "outputs": [
    {
     "data": {
      "text/html": [
       "<div>\n",
       "<style scoped>\n",
       "    .dataframe tbody tr th:only-of-type {\n",
       "        vertical-align: middle;\n",
       "    }\n",
       "\n",
       "    .dataframe tbody tr th {\n",
       "        vertical-align: top;\n",
       "    }\n",
       "\n",
       "    .dataframe thead th {\n",
       "        text-align: right;\n",
       "    }\n",
       "</style>\n",
       "<table border=\"1\" class=\"dataframe\">\n",
       "  <thead>\n",
       "    <tr style=\"text-align: right;\">\n",
       "      <th></th>\n",
       "      <th>Id</th>\n",
       "      <th>Timestamp</th>\n",
       "      <th>Source</th>\n",
       "      <th>Retwwet_Count</th>\n",
       "      <th>User_Name</th>\n",
       "      <th>tweets</th>\n",
       "    </tr>\n",
       "  </thead>\n",
       "  <tbody>\n",
       "    <tr>\n",
       "      <th>0</th>\n",
       "      <td>1244239930341100032</td>\n",
       "      <td>2020-03-29 12:28:10</td>\n",
       "      <td>Twitter Web App</td>\n",
       "      <td>0</td>\n",
       "      <td>Mamaa</td>\n",
       "      <td>Please how are you guys adjusting to realiti...</td>\n",
       "    </tr>\n",
       "    <tr>\n",
       "      <th>1</th>\n",
       "      <td>1244239930123049984</td>\n",
       "      <td>2020-03-29 12:28:10</td>\n",
       "      <td>Twitter for Android</td>\n",
       "      <td>0</td>\n",
       "      <td>Opemi Dmh</td>\n",
       "      <td>First Name: CORONA\\nSurname: VIRUS \\nNickNam...</td>\n",
       "    </tr>\n",
       "    <tr>\n",
       "      <th>2</th>\n",
       "      <td>1244239929619680000</td>\n",
       "      <td>2020-03-29 12:28:10</td>\n",
       "      <td>IFTTT</td>\n",
       "      <td>0</td>\n",
       "      <td>Muhammad Iqbal Dar</td>\n",
       "      <td>Liked on YouTube: Corona Conversation with Dad...</td>\n",
       "    </tr>\n",
       "    <tr>\n",
       "      <th>3</th>\n",
       "      <td>1244239928919119872</td>\n",
       "      <td>2020-03-29 12:28:10</td>\n",
       "      <td>Twitter for iPhone</td>\n",
       "      <td>0</td>\n",
       "      <td>â™¥Dream 2021 ðŸ’™ Rache â™¥</td>\n",
       "      <td>Letâ€™s fight Corona Virus. Get well soon.</td>\n",
       "    </tr>\n",
       "    <tr>\n",
       "      <th>4</th>\n",
       "      <td>1244239928608740096</td>\n",
       "      <td>2020-03-29 12:28:10</td>\n",
       "      <td>Twitter for Android</td>\n",
       "      <td>0</td>\n",
       "      <td>Alaxender0687</td>\n",
       "      <td>Aaj desh mein Corona ko Phelne se Rokna bhut h...</td>\n",
       "    </tr>\n",
       "  </tbody>\n",
       "</table>\n",
       "</div>"
      ],
      "text/plain": [
       "                    Id            Timestamp               Source  \\\n",
       "0  1244239930341100032  2020-03-29 12:28:10      Twitter Web App   \n",
       "1  1244239930123049984  2020-03-29 12:28:10  Twitter for Android   \n",
       "2  1244239929619680000  2020-03-29 12:28:10                IFTTT   \n",
       "3  1244239928919119872  2020-03-29 12:28:10   Twitter for iPhone   \n",
       "4  1244239928608740096  2020-03-29 12:28:10  Twitter for Android   \n",
       "\n",
       "   Retwwet_Count                     User_Name  \\\n",
       "0              0                         Mamaa   \n",
       "1              0                     Opemi Dmh   \n",
       "2              0            Muhammad Iqbal Dar   \n",
       "3              0  â™¥Dream 2021 ðŸ’™ Rache â™¥   \n",
       "4              0                 Alaxender0687   \n",
       "\n",
       "                                              tweets  \n",
       "0    Please how are you guys adjusting to realiti...  \n",
       "1    First Name: CORONA\\nSurname: VIRUS \\nNickNam...  \n",
       "2  Liked on YouTube: Corona Conversation with Dad...  \n",
       "3         Letâ€™s fight Corona Virus. Get well soon.  \n",
       "4  Aaj desh mein Corona ko Phelne se Rokna bhut h...  "
      ]
     },
     "execution_count": 13,
     "metadata": {},
     "output_type": "execute_result"
    }
   ],
   "source": [
    "twitter_data.head(5)"
   ]
  },
  {
   "cell_type": "code",
   "execution_count": 14,
   "metadata": {
    "colab": {},
    "colab_type": "code",
    "id": "1SA1xtkzjeHO"
   },
   "outputs": [],
   "source": [
    "PUNCT_TO_REMOVE = '!\"#$%&\\'()*+,-./:;<=>?@[\\\\]^_{|}~`'"
   ]
  },
  {
   "cell_type": "code",
   "execution_count": 15,
   "metadata": {
    "colab": {},
    "colab_type": "code",
    "id": "Hm-NNqR0jgce"
   },
   "outputs": [],
   "source": [
    "def remove_punctuation(text):\n",
    "    return text.translate(str.maketrans(' ', ' ', PUNCT_TO_REMOVE))"
   ]
  },
  {
   "cell_type": "code",
   "execution_count": 16,
   "metadata": {
    "colab": {},
    "colab_type": "code",
    "id": "nLePVfoxi6O5"
   },
   "outputs": [],
   "source": [
    "twitter_data.iloc[:,5] = twitter_data.iloc[:,5].apply(lambda text: remove_punctuation(text))"
   ]
  },
  {
   "cell_type": "code",
   "execution_count": 17,
   "metadata": {
    "colab": {},
    "colab_type": "code",
    "id": "DYx8a6Pw-0ar"
   },
   "outputs": [],
   "source": [
    "all_words = list(twitter_data.iloc[:,5].str.lower().str.split(' ', expand=True).stack().unique())"
   ]
  },
  {
   "cell_type": "code",
   "execution_count": 18,
   "metadata": {
    "colab": {
     "base_uri": "https://localhost:8080/",
     "height": 204
    },
    "colab_type": "code",
    "id": "sTtXB2hWjDck",
    "outputId": "68490660-ed1a-4a32-ae47-a858f8bb6520"
   },
   "outputs": [
    {
     "data": {
      "text/plain": [
       "0      Please how are you guys adjusting to realiti...\n",
       "1      First Name CORONA\\nSurname VIRUS \\nNickName ...\n",
       "2    Liked on YouTube Corona Conversation with Dad ...\n",
       "3             Letâ€™s fight Corona Virus Get well soon\n",
       "4    Aaj desh mein Corona ko Phelne se Rokna bhut h...\n",
       "5        I bought one due to Corona FIFA is shit St...\n",
       "6    First death due to corona Buldana Maharashtra ...\n",
       "7    How we handle Corona crisis will determine our...\n",
       "8        This corona virus shit fuckin up my sleep smh\n",
       "9    Corona doesnt weather you are rich or poverty ...\n",
       "Name: tweets, dtype: object"
      ]
     },
     "execution_count": 18,
     "metadata": {},
     "output_type": "execute_result"
    }
   ],
   "source": [
    "twitter_data['tweets'].head(10)"
   ]
  },
  {
   "cell_type": "markdown",
   "metadata": {
    "colab_type": "text",
    "id": "79IUToYgmrp9"
   },
   "source": [
    "Remove most occuring words"
   ]
  },
  {
   "cell_type": "code",
   "execution_count": 19,
   "metadata": {
    "colab": {},
    "colab_type": "code",
    "id": "j03xsTQik754"
   },
   "outputs": [],
   "source": [
    "from collections import Counter\n",
    "cnt = Counter()\n",
    "for text in twitter_data['tweets'].values:\n",
    "    for word in text.split():\n",
    "        cnt[word] += 1"
   ]
  },
  {
   "cell_type": "code",
   "execution_count": 20,
   "metadata": {
    "colab": {
     "base_uri": "https://localhost:8080/",
     "height": 357
    },
    "colab_type": "code",
    "id": "X-RgyCCHmUmX",
    "outputId": "a6aef20a-63d0-4a48-b93e-e181cbdaaedb"
   },
   "outputs": [
    {
     "data": {
      "text/plain": [
       "[('the', 83647),\n",
       " ('to', 70909),\n",
       " ('of', 47685),\n",
       " ('and', 45069),\n",
       " ('corona', 39462),\n",
       " ('a', 38293),\n",
       " ('is', 37105),\n",
       " ('in', 36568),\n",
       " ('Corona', 31573),\n",
       " ('for', 28171),\n",
       " ('I', 27100),\n",
       " ('this', 20684),\n",
       " ('COVID19', 20225),\n",
       " ('you', 20019),\n",
       " ('on', 18403),\n",
       " ('are', 18285),\n",
       " ('virus', 17847),\n",
       " ('that', 17667),\n",
       " ('it', 16984),\n",
       " ('with', 15400),\n",
       " ('be', 15050),\n",
       " ('have', 14399),\n",
       " ('my', 12766),\n",
       " ('from', 12751),\n",
       " ('not', 12602),\n",
       " ('we', 11077),\n",
       " ('will', 10559),\n",
       " ('all', 10279),\n",
       " ('at', 9950),\n",
       " ('Covid19', 9632),\n",
       " ('people', 9526),\n",
       " ('The', 9329),\n",
       " ('has', 9034),\n",
       " ('as', 8797),\n",
       " ('but', 8778),\n",
       " ('was', 8418),\n",
       " ('they', 8103),\n",
       " ('by', 7993),\n",
       " ('your', 7871),\n",
       " ('about', 7854),\n",
       " ('so', 7794),\n",
       " ('me', 7636),\n",
       " ('can', 7611),\n",
       " ('amp', 7297),\n",
       " ('like', 6997),\n",
       " ('out', 6980),\n",
       " ('get', 6917),\n",
       " ('just', 6895),\n",
       " ('if', 6825),\n",
       " ('or', 6676),\n",
       " ('now', 6290),\n",
       " ('our', 6260),\n",
       " ('who', 5677),\n",
       " ('do', 5531),\n",
       " ('more', 5522),\n",
       " ('up', 5348),\n",
       " ('time', 5253),\n",
       " ('i', 5168),\n",
       " ('no', 5059),\n",
       " ('been', 4911),\n",
       " ('0', 4864),\n",
       " ('covid', 4832),\n",
       " ('COVID', 4749),\n",
       " ('We', 4719),\n",
       " ('their', 4698),\n",
       " ('This', 4655),\n",
       " ('us', 4624),\n",
       " ('one', 4599),\n",
       " ('he', 4530),\n",
       " ('how', 4509)]"
      ]
     },
     "execution_count": 20,
     "metadata": {},
     "output_type": "execute_result"
    }
   ],
   "source": [
    "cnt.most_common(70)"
   ]
  },
  {
   "cell_type": "code",
   "execution_count": 21,
   "metadata": {
    "colab": {},
    "colab_type": "code",
    "id": "Ld45S4timPEy"
   },
   "outputs": [],
   "source": [
    "FREQWORDS = set([w for (w, wc) in cnt.most_common(70)])\n",
    "def remove_freqwords(text):\n",
    "    \"\"\"custom function to remove the frequent words\"\"\"\n",
    "    return \" \".join([word for word in str(text).split() if word not in FREQWORDS])"
   ]
  },
  {
   "cell_type": "code",
   "execution_count": 22,
   "metadata": {
    "colab": {},
    "colab_type": "code",
    "id": "7h1JhUpymgAZ"
   },
   "outputs": [],
   "source": [
    "twitter_data['tweets'] = twitter_data['tweets'].apply(lambda text: remove_freqwords(text))"
   ]
  },
  {
   "cell_type": "code",
   "execution_count": 23,
   "metadata": {
    "colab": {
     "base_uri": "https://localhost:8080/",
     "height": 204
    },
    "colab_type": "code",
    "id": "nC42wuQWmj-u",
    "outputId": "8faf3f5d-ac39-4326-f6b2-02648850f598"
   },
   "outputs": [
    {
     "data": {
      "text/plain": [
       "0    Please guys adjusting realities You know oppos...\n",
       "1    First Name CORONA Surname VIRUS NickName Age 1...\n",
       "2    Liked YouTube Conversation Dad feat Jeetu Gajr...\n",
       "3                    Letâ€™s fight Virus Get well soon\n",
       "4    Aaj desh mein ko Phelne se Rokna bhut hi muski...\n",
       "5    bought due FIFA shit Star Wars hard Iâ€™m shit...\n",
       "6    First death due Buldana Maharashtra its Mahara...\n",
       "7    How handle crisis determine place world future...\n",
       "8                                shit fuckin sleep smh\n",
       "9         doesnt weather rich poverty What ðŸŒ¹ single\n",
       "Name: tweets, dtype: object"
      ]
     },
     "execution_count": 23,
     "metadata": {},
     "output_type": "execute_result"
    }
   ],
   "source": [
    "twitter_data['tweets'].head(10)"
   ]
  },
  {
   "cell_type": "markdown",
   "metadata": {
    "colab_type": "text",
    "id": "kC4V70ftm_vH"
   },
   "source": [
    "Remove rare words"
   ]
  },
  {
   "cell_type": "code",
   "execution_count": 24,
   "metadata": {
    "colab": {},
    "colab_type": "code",
    "id": "b4f3eGwdk8mr"
   },
   "outputs": [],
   "source": [
    "n_rare_words = 100\n",
    "RAREWORDS = set([w for (w, wc) in cnt.most_common()[:-n_rare_words-1:-1]])\n",
    "def remove_rarewords(text):\n",
    "    return \" \".join([word for word in str(text).split() if word not in RAREWORDS])"
   ]
  },
  {
   "cell_type": "code",
   "execution_count": 25,
   "metadata": {},
   "outputs": [
    {
     "data": {
      "text/plain": [
       "{'100200',\n",
       " '2breatheasily',\n",
       " '365579',\n",
       " '6010this',\n",
       " '8010',\n",
       " 'AoA',\n",
       " 'BECAME',\n",
       " 'Builds',\n",
       " 'Castel',\n",
       " 'ChillðŸ¤·ðŸ\\x8f¾â€\\x8dâ™‚ï¸\\x8f',\n",
       " 'CovidReport',\n",
       " 'EUGEWJHWHR',\n",
       " 'Fcking',\n",
       " 'HHHHHHHHAAAAAAAAAAAAAAA',\n",
       " 'Hmsan',\n",
       " 'Intentions',\n",
       " 'JustinBieber',\n",
       " 'KeeptheRepublicSafe',\n",
       " 'Kurasini',\n",
       " 'Kyoto',\n",
       " 'LOOOL',\n",
       " 'Lemmon',\n",
       " 'LytleðŸŽ‰ðŸŽ‰',\n",
       " 'Marion',\n",
       " 'Mightyraccoon',\n",
       " 'Nammonia',\n",
       " 'Natti',\n",
       " 'NetflixandChill',\n",
       " 'Roblox',\n",
       " 'Samachar',\n",
       " 'SummerWalker',\n",
       " 'Sunnybrook',\n",
       " 'Switches',\n",
       " 'TJE',\n",
       " 'Tumeric',\n",
       " 'USaskatoon',\n",
       " 'UToronto',\n",
       " 'aroundðŸ¤¦â€\\x8dâ™€ï¸\\x8f',\n",
       " 'asiaâ€™s',\n",
       " 'asymmetry',\n",
       " 'b33fday',\n",
       " 'badhad',\n",
       " 'blowsâ€\\x9d',\n",
       " 'broðŸ˜\\xadðŸ˜\\xad',\n",
       " 'casesampoverwhelmed',\n",
       " 'casesas',\n",
       " 'cattyðŸ˜˜',\n",
       " 'coronabriefing',\n",
       " 'coronaplease',\n",
       " 'coronataskforce',\n",
       " 'cureUse',\n",
       " 'devenezgoomba',\n",
       " 'dismount',\n",
       " 'drfauci',\n",
       " 'easyTrump',\n",
       " 'enor',\n",
       " 'exceptionalismChurchill',\n",
       " 'flem',\n",
       " 'gZone',\n",
       " 'hongjoong',\n",
       " 'interrupting',\n",
       " 'intothespiderverse',\n",
       " 'inversion',\n",
       " 'jinyoung',\n",
       " 'ketu',\n",
       " 'liarthe',\n",
       " 'lolwut',\n",
       " 'madeUP',\n",
       " 'mcu',\n",
       " 'milesmorales',\n",
       " 'nigerian',\n",
       " 'obaa',\n",
       " 'occasioned',\n",
       " 'ojota',\n",
       " 'onalittlebitofthebubbly',\n",
       " 'pae',\n",
       " 'pandemicfirst',\n",
       " 'partWhy',\n",
       " 'peterparker',\n",
       " 'psychedelic',\n",
       " 'pulltheplugdraintheswamp',\n",
       " 'rnb',\n",
       " 'saltwatertea',\n",
       " 'scalpers',\n",
       " 'scofflaws',\n",
       " 'shoddies',\n",
       " 'spiderverse',\n",
       " 'taraweehh',\n",
       " 'tawdry',\n",
       " 'thenðŸ¤£',\n",
       " 'upsnoncritical',\n",
       " 'vibehh',\n",
       " 'warface',\n",
       " 'youðŸ˜˜',\n",
       " 'â€œPERIIOOOOODDDDDâ€\\x9d',\n",
       " 'â€œShooters',\n",
       " 'ðŸ\\x8fŒðŸ\\x8f½',\n",
       " 'ðŸ¥€ðŸ‡¯ðŸ‡µ',\n",
       " 'ðŸ˜\\x8fÂ¿Quarantine',\n",
       " 'ðŸ‘·â€\\x8dâ™‚ï¸\\x8fNew'}"
      ]
     },
     "execution_count": 25,
     "metadata": {},
     "output_type": "execute_result"
    }
   ],
   "source": [
    "RAREWORDS"
   ]
  },
  {
   "cell_type": "code",
   "execution_count": 26,
   "metadata": {
    "colab": {},
    "colab_type": "code",
    "id": "gSI-Ipkvm6vR"
   },
   "outputs": [],
   "source": [
    "twitter_data['tweets'] = twitter_data['tweets'].apply(lambda text: remove_rarewords(text))"
   ]
  },
  {
   "cell_type": "code",
   "execution_count": 27,
   "metadata": {
    "colab": {
     "base_uri": "https://localhost:8080/",
     "height": 204
    },
    "colab_type": "code",
    "id": "rvmI8UKbm-uy",
    "outputId": "5e835eda-9eaf-4ba5-f692-09c776192d66"
   },
   "outputs": [
    {
     "data": {
      "text/plain": [
       "0    Please guys adjusting realities You know oppos...\n",
       "1    First Name CORONA Surname VIRUS NickName Age 1...\n",
       "2    Liked YouTube Conversation Dad feat Jeetu Gajr...\n",
       "3                    Letâ€™s fight Virus Get well soon\n",
       "4    Aaj desh mein ko Phelne se Rokna bhut hi muski...\n",
       "5    bought due FIFA shit Star Wars hard Iâ€™m shit...\n",
       "6    First death due Buldana Maharashtra its Mahara...\n",
       "7    How handle crisis determine place world future...\n",
       "8                                shit fuckin sleep smh\n",
       "9         doesnt weather rich poverty What ðŸŒ¹ single\n",
       "Name: tweets, dtype: object"
      ]
     },
     "execution_count": 27,
     "metadata": {},
     "output_type": "execute_result"
    }
   ],
   "source": [
    "twitter_data['tweets'].head(10)"
   ]
  },
  {
   "cell_type": "markdown",
   "metadata": {
    "colab_type": "text",
    "id": "92O_eybMg4n8"
   },
   "source": [
    "Lemmatize"
   ]
  },
  {
   "cell_type": "code",
   "execution_count": 28,
   "metadata": {
    "colab": {},
    "colab_type": "code",
    "id": "K0ZGw83QnnCL"
   },
   "outputs": [],
   "source": [
    "from nltk.stem import WordNetLemmatizer\n",
    "from nltk.corpus import wordnet"
   ]
  },
  {
   "cell_type": "code",
   "execution_count": 29,
   "metadata": {
    "colab": {
     "base_uri": "https://localhost:8080/",
     "height": 1000
    },
    "colab_type": "code",
    "id": "CrHENeEOrfGO",
    "outputId": "6332c26d-0899-443c-d9b5-6d0cc1027530"
   },
   "outputs": [
    {
     "name": "stderr",
     "output_type": "stream",
     "text": [
      "[nltk_data] Downloading collection 'book'\n",
      "[nltk_data]    | \n",
      "[nltk_data]    | Downloading package abc to /Users/krish/nltk_data...\n",
      "[nltk_data]    |   Package abc is already up-to-date!\n",
      "[nltk_data]    | Downloading package brown to\n",
      "[nltk_data]    |     /Users/krish/nltk_data...\n",
      "[nltk_data]    |   Package brown is already up-to-date!\n",
      "[nltk_data]    | Downloading package chat80 to\n",
      "[nltk_data]    |     /Users/krish/nltk_data...\n",
      "[nltk_data]    |   Package chat80 is already up-to-date!\n",
      "[nltk_data]    | Downloading package cmudict to\n",
      "[nltk_data]    |     /Users/krish/nltk_data...\n",
      "[nltk_data]    |   Package cmudict is already up-to-date!\n",
      "[nltk_data]    | Downloading package conll2000 to\n",
      "[nltk_data]    |     /Users/krish/nltk_data...\n",
      "[nltk_data]    |   Package conll2000 is already up-to-date!\n",
      "[nltk_data]    | Downloading package conll2002 to\n",
      "[nltk_data]    |     /Users/krish/nltk_data...\n",
      "[nltk_data]    |   Package conll2002 is already up-to-date!\n",
      "[nltk_data]    | Downloading package dependency_treebank to\n",
      "[nltk_data]    |     /Users/krish/nltk_data...\n",
      "[nltk_data]    |   Package dependency_treebank is already up-to-date!\n",
      "[nltk_data]    | Downloading package genesis to\n",
      "[nltk_data]    |     /Users/krish/nltk_data...\n",
      "[nltk_data]    |   Package genesis is already up-to-date!\n",
      "[nltk_data]    | Downloading package gutenberg to\n",
      "[nltk_data]    |     /Users/krish/nltk_data...\n",
      "[nltk_data]    |   Package gutenberg is already up-to-date!\n",
      "[nltk_data]    | Downloading package ieer to /Users/krish/nltk_data...\n",
      "[nltk_data]    |   Package ieer is already up-to-date!\n",
      "[nltk_data]    | Downloading package inaugural to\n",
      "[nltk_data]    |     /Users/krish/nltk_data...\n",
      "[nltk_data]    |   Package inaugural is already up-to-date!\n",
      "[nltk_data]    | Downloading package movie_reviews to\n",
      "[nltk_data]    |     /Users/krish/nltk_data...\n",
      "[nltk_data]    |   Package movie_reviews is already up-to-date!\n",
      "[nltk_data]    | Downloading package nps_chat to\n",
      "[nltk_data]    |     /Users/krish/nltk_data...\n",
      "[nltk_data]    |   Package nps_chat is already up-to-date!\n",
      "[nltk_data]    | Downloading package names to\n",
      "[nltk_data]    |     /Users/krish/nltk_data...\n",
      "[nltk_data]    |   Package names is already up-to-date!\n",
      "[nltk_data]    | Downloading package ppattach to\n",
      "[nltk_data]    |     /Users/krish/nltk_data...\n",
      "[nltk_data]    |   Package ppattach is already up-to-date!\n",
      "[nltk_data]    | Downloading package reuters to\n",
      "[nltk_data]    |     /Users/krish/nltk_data...\n",
      "[nltk_data]    |   Package reuters is already up-to-date!\n",
      "[nltk_data]    | Downloading package senseval to\n",
      "[nltk_data]    |     /Users/krish/nltk_data...\n",
      "[nltk_data]    |   Package senseval is already up-to-date!\n",
      "[nltk_data]    | Downloading package state_union to\n",
      "[nltk_data]    |     /Users/krish/nltk_data...\n",
      "[nltk_data]    |   Package state_union is already up-to-date!\n",
      "[nltk_data]    | Downloading package stopwords to\n",
      "[nltk_data]    |     /Users/krish/nltk_data...\n",
      "[nltk_data]    |   Package stopwords is already up-to-date!\n",
      "[nltk_data]    | Downloading package swadesh to\n",
      "[nltk_data]    |     /Users/krish/nltk_data...\n",
      "[nltk_data]    |   Package swadesh is already up-to-date!\n",
      "[nltk_data]    | Downloading package timit to\n",
      "[nltk_data]    |     /Users/krish/nltk_data...\n",
      "[nltk_data]    |   Package timit is already up-to-date!\n",
      "[nltk_data]    | Downloading package treebank to\n",
      "[nltk_data]    |     /Users/krish/nltk_data...\n",
      "[nltk_data]    |   Package treebank is already up-to-date!\n",
      "[nltk_data]    | Downloading package toolbox to\n",
      "[nltk_data]    |     /Users/krish/nltk_data...\n",
      "[nltk_data]    |   Package toolbox is already up-to-date!\n",
      "[nltk_data]    | Downloading package udhr to /Users/krish/nltk_data...\n",
      "[nltk_data]    |   Package udhr is already up-to-date!\n",
      "[nltk_data]    | Downloading package udhr2 to\n",
      "[nltk_data]    |     /Users/krish/nltk_data...\n",
      "[nltk_data]    |   Package udhr2 is already up-to-date!\n",
      "[nltk_data]    | Downloading package unicode_samples to\n",
      "[nltk_data]    |     /Users/krish/nltk_data...\n",
      "[nltk_data]    |   Package unicode_samples is already up-to-date!\n",
      "[nltk_data]    | Downloading package webtext to\n",
      "[nltk_data]    |     /Users/krish/nltk_data...\n",
      "[nltk_data]    |   Package webtext is already up-to-date!\n",
      "[nltk_data]    | Downloading package wordnet to\n",
      "[nltk_data]    |     /Users/krish/nltk_data...\n",
      "[nltk_data]    |   Package wordnet is already up-to-date!\n",
      "[nltk_data]    | Downloading package wordnet_ic to\n",
      "[nltk_data]    |     /Users/krish/nltk_data...\n",
      "[nltk_data]    |   Package wordnet_ic is already up-to-date!\n",
      "[nltk_data]    | Downloading package words to\n",
      "[nltk_data]    |     /Users/krish/nltk_data...\n",
      "[nltk_data]    |   Package words is already up-to-date!\n",
      "[nltk_data]    | Downloading package maxent_treebank_pos_tagger to\n",
      "[nltk_data]    |     /Users/krish/nltk_data...\n",
      "[nltk_data]    |   Package maxent_treebank_pos_tagger is already up-\n",
      "[nltk_data]    |       to-date!\n",
      "[nltk_data]    | Downloading package maxent_ne_chunker to\n",
      "[nltk_data]    |     /Users/krish/nltk_data...\n",
      "[nltk_data]    |   Package maxent_ne_chunker is already up-to-date!\n",
      "[nltk_data]    | Downloading package universal_tagset to\n",
      "[nltk_data]    |     /Users/krish/nltk_data...\n",
      "[nltk_data]    |   Package universal_tagset is already up-to-date!\n",
      "[nltk_data]    | Downloading package punkt to\n",
      "[nltk_data]    |     /Users/krish/nltk_data...\n",
      "[nltk_data]    |   Package punkt is already up-to-date!\n",
      "[nltk_data]    | Downloading package book_grammars to\n",
      "[nltk_data]    |     /Users/krish/nltk_data...\n",
      "[nltk_data]    |   Package book_grammars is already up-to-date!\n",
      "[nltk_data]    | Downloading package city_database to\n",
      "[nltk_data]    |     /Users/krish/nltk_data...\n",
      "[nltk_data]    |   Package city_database is already up-to-date!\n",
      "[nltk_data]    | Downloading package tagsets to\n",
      "[nltk_data]    |     /Users/krish/nltk_data...\n",
      "[nltk_data]    |   Package tagsets is already up-to-date!\n",
      "[nltk_data]    | Downloading package panlex_swadesh to\n",
      "[nltk_data]    |     /Users/krish/nltk_data...\n",
      "[nltk_data]    |   Package panlex_swadesh is already up-to-date!\n",
      "[nltk_data]    | Downloading package averaged_perceptron_tagger to\n",
      "[nltk_data]    |     /Users/krish/nltk_data...\n",
      "[nltk_data]    |   Package averaged_perceptron_tagger is already up-\n",
      "[nltk_data]    |       to-date!\n",
      "[nltk_data]    | \n",
      "[nltk_data]  Done downloading collection book\n"
     ]
    },
    {
     "data": {
      "text/plain": [
       "True"
      ]
     },
     "execution_count": 29,
     "metadata": {},
     "output_type": "execute_result"
    }
   ],
   "source": [
    "import nltk\n",
    "nltk.download('book')\n",
    "\n",
    "#nltk.download('all-corpora')"
   ]
  },
  {
   "cell_type": "code",
   "execution_count": 30,
   "metadata": {
    "colab": {},
    "colab_type": "code",
    "id": "SDU83t4SnqGU"
   },
   "outputs": [],
   "source": [
    "lemmatizer = WordNetLemmatizer()\n",
    "def lemmatize_words(text):\n",
    "    return \" \".join([lemmatizer.lemmatize(word) for word in text.split()])"
   ]
  },
  {
   "cell_type": "code",
   "execution_count": 31,
   "metadata": {
    "colab": {},
    "colab_type": "code",
    "id": "D6s0GtZTnsls"
   },
   "outputs": [],
   "source": [
    "twitter_data['tweets'] = twitter_data['tweets'].apply(lambda text: lemmatize_words(text))"
   ]
  },
  {
   "cell_type": "code",
   "execution_count": 32,
   "metadata": {
    "colab": {},
    "colab_type": "code",
    "id": "IUp_2jFgivLh"
   },
   "outputs": [],
   "source": [
    "lemmatizer = WordNetLemmatizer()\n",
    "wordnet_map = {\"N\":wordnet.NOUN, \"V\":wordnet.VERB, \"J\":wordnet.ADJ, \"R\":wordnet.ADV}"
   ]
  },
  {
   "cell_type": "code",
   "execution_count": 33,
   "metadata": {
    "colab": {},
    "colab_type": "code",
    "id": "dJJpY0Ser0GX"
   },
   "outputs": [],
   "source": [
    "def lemmatize_words(text):\n",
    "    pos_tagged_text = nltk.pos_tag(text.split())\n",
    "    return \" \".join([lemmatizer.lemmatize(word, wordnet_map.get(pos[0], wordnet.NOUN)) for word, pos in pos_tagged_text])"
   ]
  },
  {
   "cell_type": "code",
   "execution_count": 34,
   "metadata": {
    "colab": {},
    "colab_type": "code",
    "id": "m9ciHAIVr4oL"
   },
   "outputs": [],
   "source": [
    "twitter_data['tweets'] = twitter_data['tweets'].apply(lambda text: lemmatize_words(text))"
   ]
  },
  {
   "cell_type": "code",
   "execution_count": 35,
   "metadata": {
    "colab": {
     "base_uri": "https://localhost:8080/",
     "height": 359
    },
    "colab_type": "code",
    "id": "uLWVm-MSsHA5",
    "outputId": "71bb42c4-55ab-4539-9c8d-4117324ca61d"
   },
   "outputs": [
    {
     "data": {
      "text/html": [
       "<div>\n",
       "<style scoped>\n",
       "    .dataframe tbody tr th:only-of-type {\n",
       "        vertical-align: middle;\n",
       "    }\n",
       "\n",
       "    .dataframe tbody tr th {\n",
       "        vertical-align: top;\n",
       "    }\n",
       "\n",
       "    .dataframe thead th {\n",
       "        text-align: right;\n",
       "    }\n",
       "</style>\n",
       "<table border=\"1\" class=\"dataframe\">\n",
       "  <thead>\n",
       "    <tr style=\"text-align: right;\">\n",
       "      <th></th>\n",
       "      <th>Id</th>\n",
       "      <th>Timestamp</th>\n",
       "      <th>Source</th>\n",
       "      <th>Retwwet_Count</th>\n",
       "      <th>User_Name</th>\n",
       "      <th>tweets</th>\n",
       "    </tr>\n",
       "  </thead>\n",
       "  <tbody>\n",
       "    <tr>\n",
       "      <th>0</th>\n",
       "      <td>1244239930341100032</td>\n",
       "      <td>2020-03-29 12:28:10</td>\n",
       "      <td>Twitter Web App</td>\n",
       "      <td>0</td>\n",
       "      <td>Mamaa</td>\n",
       "      <td>Please guy adjust reality You know opposed med...</td>\n",
       "    </tr>\n",
       "    <tr>\n",
       "      <th>1</th>\n",
       "      <td>1244239930123049984</td>\n",
       "      <td>2020-03-29 12:28:10</td>\n",
       "      <td>Twitter for Android</td>\n",
       "      <td>0</td>\n",
       "      <td>Opemi Dmh</td>\n",
       "      <td>First Name CORONA Surname VIRUS NickName Age 1...</td>\n",
       "    </tr>\n",
       "    <tr>\n",
       "      <th>2</th>\n",
       "      <td>1244239929619680000</td>\n",
       "      <td>2020-03-29 12:28:10</td>\n",
       "      <td>IFTTT</td>\n",
       "      <td>0</td>\n",
       "      <td>Muhammad Iqbal Dar</td>\n",
       "      <td>Liked YouTube Conversation Dad feat Jeetu Gajr...</td>\n",
       "    </tr>\n",
       "    <tr>\n",
       "      <th>3</th>\n",
       "      <td>1244239928919119872</td>\n",
       "      <td>2020-03-29 12:28:10</td>\n",
       "      <td>Twitter for iPhone</td>\n",
       "      <td>0</td>\n",
       "      <td>â™¥Dream 2021 ðŸ’™ Rache â™¥</td>\n",
       "      <td>Letâ€™s fight Virus Get well soon</td>\n",
       "    </tr>\n",
       "    <tr>\n",
       "      <th>4</th>\n",
       "      <td>1244239928608740096</td>\n",
       "      <td>2020-03-29 12:28:10</td>\n",
       "      <td>Twitter for Android</td>\n",
       "      <td>0</td>\n",
       "      <td>Alaxender0687</td>\n",
       "      <td>Aaj desh mein ko Phelne se Rokna bhut hi muski...</td>\n",
       "    </tr>\n",
       "    <tr>\n",
       "      <th>5</th>\n",
       "      <td>1244239927728110080</td>\n",
       "      <td>2020-03-29 12:28:10</td>\n",
       "      <td>Twitter for iPhone</td>\n",
       "      <td>0</td>\n",
       "      <td>Realo</td>\n",
       "      <td>buy due FIFA shit Star Wars hard Iâ€™m shit CO...</td>\n",
       "    </tr>\n",
       "    <tr>\n",
       "      <th>6</th>\n",
       "      <td>1244239926553530112</td>\n",
       "      <td>2020-03-29 12:28:10</td>\n",
       "      <td>Twitter for iPhone</td>\n",
       "      <td>0</td>\n",
       "      <td>Tauseef Shaikh</td>\n",
       "      <td>First death due Buldana Maharashtra it Maharas...</td>\n",
       "    </tr>\n",
       "    <tr>\n",
       "      <th>7</th>\n",
       "      <td>1244239922640240128</td>\n",
       "      <td>2020-03-29 12:28:09</td>\n",
       "      <td>Twitter for Android</td>\n",
       "      <td>0</td>\n",
       "      <td>Ashok Atluri</td>\n",
       "      <td>How handle crisis determine place world future...</td>\n",
       "    </tr>\n",
       "    <tr>\n",
       "      <th>8</th>\n",
       "      <td>1244239922158080000</td>\n",
       "      <td>2020-03-29 12:28:08</td>\n",
       "      <td>Twitter for iPhone</td>\n",
       "      <td>0</td>\n",
       "      <td>HUNCHOFMR ðŸ’°</td>\n",
       "      <td>shit fuckin sleep smh</td>\n",
       "    </tr>\n",
       "    <tr>\n",
       "      <th>9</th>\n",
       "      <td>1244239922090970112</td>\n",
       "      <td>2020-03-29 12:28:08</td>\n",
       "      <td>Twitter for Android</td>\n",
       "      <td>0</td>\n",
       "      <td>Jacob Adoo</td>\n",
       "      <td>doesnt weather rich poverty What ðŸŒ¹ single</td>\n",
       "    </tr>\n",
       "  </tbody>\n",
       "</table>\n",
       "</div>"
      ],
      "text/plain": [
       "                    Id            Timestamp               Source  \\\n",
       "0  1244239930341100032  2020-03-29 12:28:10      Twitter Web App   \n",
       "1  1244239930123049984  2020-03-29 12:28:10  Twitter for Android   \n",
       "2  1244239929619680000  2020-03-29 12:28:10                IFTTT   \n",
       "3  1244239928919119872  2020-03-29 12:28:10   Twitter for iPhone   \n",
       "4  1244239928608740096  2020-03-29 12:28:10  Twitter for Android   \n",
       "5  1244239927728110080  2020-03-29 12:28:10   Twitter for iPhone   \n",
       "6  1244239926553530112  2020-03-29 12:28:10   Twitter for iPhone   \n",
       "7  1244239922640240128  2020-03-29 12:28:09  Twitter for Android   \n",
       "8  1244239922158080000  2020-03-29 12:28:08   Twitter for iPhone   \n",
       "9  1244239922090970112  2020-03-29 12:28:08  Twitter for Android   \n",
       "\n",
       "   Retwwet_Count                     User_Name  \\\n",
       "0              0                         Mamaa   \n",
       "1              0                     Opemi Dmh   \n",
       "2              0            Muhammad Iqbal Dar   \n",
       "3              0  â™¥Dream 2021 ðŸ’™ Rache â™¥   \n",
       "4              0                 Alaxender0687   \n",
       "5              0                         Realo   \n",
       "6              0                Tauseef Shaikh   \n",
       "7              0                  Ashok Atluri   \n",
       "8              0                HUNCHOFMR ðŸ’°   \n",
       "9              0                    Jacob Adoo   \n",
       "\n",
       "                                              tweets  \n",
       "0  Please guy adjust reality You know opposed med...  \n",
       "1  First Name CORONA Surname VIRUS NickName Age 1...  \n",
       "2  Liked YouTube Conversation Dad feat Jeetu Gajr...  \n",
       "3                  Letâ€™s fight Virus Get well soon  \n",
       "4  Aaj desh mein ko Phelne se Rokna bhut hi muski...  \n",
       "5  buy due FIFA shit Star Wars hard Iâ€™m shit CO...  \n",
       "6  First death due Buldana Maharashtra it Maharas...  \n",
       "7  How handle crisis determine place world future...  \n",
       "8                              shit fuckin sleep smh  \n",
       "9       doesnt weather rich poverty What ðŸŒ¹ single  "
      ]
     },
     "execution_count": 35,
     "metadata": {},
     "output_type": "execute_result"
    }
   ],
   "source": [
    "twitter_data.head(10)"
   ]
  },
  {
   "cell_type": "markdown",
   "metadata": {
    "colab_type": "text",
    "id": "-oOEqTE2s4NQ"
   },
   "source": [
    "Removal of Stopwords"
   ]
  },
  {
   "cell_type": "code",
   "execution_count": 36,
   "metadata": {
    "colab": {
     "base_uri": "https://localhost:8080/",
     "height": 54
    },
    "colab_type": "code",
    "id": "3IPuSexZkI5r",
    "outputId": "db8069d8-0141-48c6-f0fe-4a9549fabbbd"
   },
   "outputs": [
    {
     "data": {
      "text/plain": [
       "\"i, me, my, myself, we, our, ours, ourselves, you, you're, you've, you'll, you'd, your, yours, yourself, yourselves, he, him, his, himself, she, she's, her, hers, herself, it, it's, its, itself, they, them, their, theirs, themselves, what, which, who, whom, this, that, that'll, these, those, am, is, are, was, were, be, been, being, have, has, had, having, do, does, did, doing, a, an, the, and, but, if, or, because, as, until, while, of, at, by, for, with, about, against, between, into, through, during, before, after, above, below, to, from, up, down, in, out, on, off, over, under, again, further, then, once, here, there, when, where, why, how, all, any, both, each, few, more, most, other, some, such, no, nor, not, only, own, same, so, than, too, very, s, t, can, will, just, don, don't, should, should've, now, d, ll, m, o, re, ve, y, ain, aren, aren't, couldn, couldn't, didn, didn't, doesn, doesn't, hadn, hadn't, hasn, hasn't, haven, haven't, isn, isn't, ma, mightn, mightn't, mustn, mustn't, needn, needn't, shan, shan't, shouldn, shouldn't, wasn, wasn't, weren, weren't, won, won't, wouldn, wouldn't\""
      ]
     },
     "execution_count": 36,
     "metadata": {},
     "output_type": "execute_result"
    }
   ],
   "source": [
    "from nltk.corpus import stopwords\n",
    "\", \".join(stopwords.words('english'))"
   ]
  },
  {
   "cell_type": "code",
   "execution_count": 37,
   "metadata": {
    "colab": {},
    "colab_type": "code",
    "id": "AD2sAgGts_fM"
   },
   "outputs": [],
   "source": [
    "STOPWORDS = set(stopwords.words('english'))"
   ]
  },
  {
   "cell_type": "code",
   "execution_count": 38,
   "metadata": {
    "colab": {},
    "colab_type": "code",
    "id": "_SItfEXBtEHH"
   },
   "outputs": [],
   "source": [
    "def remove_stopwords(text):\n",
    "    return \" \".join([word for word in str(text).split() if word not in STOPWORDS])"
   ]
  },
  {
   "cell_type": "code",
   "execution_count": 39,
   "metadata": {
    "colab": {},
    "colab_type": "code",
    "id": "0ZGzy4sIkk6H"
   },
   "outputs": [],
   "source": [
    "twitter_data['tweets'] = twitter_data['tweets'].apply(lambda text: remove_stopwords(text))"
   ]
  },
  {
   "cell_type": "code",
   "execution_count": 40,
   "metadata": {
    "colab": {
     "base_uri": "https://localhost:8080/",
     "height": 204
    },
    "colab_type": "code",
    "id": "1NKwFXowtTFW",
    "outputId": "4c5abecb-8e82-42fe-b343-21452876e517"
   },
   "outputs": [
    {
     "data": {
      "text/plain": [
       "0    Please guy adjust reality You know opposed med...\n",
       "1    First Name CORONA Surname VIRUS NickName Age 1...\n",
       "2    Liked YouTube Conversation Dad feat Jeetu Gajr...\n",
       "3                    Letâ€™s fight Virus Get well soon\n",
       "4    Aaj desh mein ko Phelne se Rokna bhut hi muski...\n",
       "5    buy due FIFA shit Star Wars hard Iâ€™m shit CO...\n",
       "6    First death due Buldana Maharashtra Maharashtr...\n",
       "7    How handle crisis determine place world future...\n",
       "8                                shit fuckin sleep smh\n",
       "9         doesnt weather rich poverty What ðŸŒ¹ single\n",
       "Name: tweets, dtype: object"
      ]
     },
     "execution_count": 40,
     "metadata": {},
     "output_type": "execute_result"
    }
   ],
   "source": [
    "twitter_data['tweets'].head(10)"
   ]
  },
  {
   "cell_type": "markdown",
   "metadata": {
    "colab_type": "text",
    "id": "KuoE59q12wMI"
   },
   "source": [
    "Removal of unwanted Emojis"
   ]
  },
  {
   "cell_type": "code",
   "execution_count": 41,
   "metadata": {
    "colab": {},
    "colab_type": "code",
    "id": "IWZjeM1_ivRs"
   },
   "outputs": [],
   "source": [
    "def remove_emoji(string):\n",
    "    emoji_pattern = re.compile(\"[\"\n",
    "                           u\"\\U0001F600-\\U0001F64F\"  \n",
    "                           u\"\\U0001F300-\\U0001F5FF\"  \n",
    "                           u\"\\U0001F680-\\U0001F6FF\" \n",
    "                           u\"\\U0001F1E0-\\U0001F1FF\" \n",
    "                           u\"\\U00002702-\\U000027B0\"\n",
    "                           u\"\\U000024C2-\\U0001F251\"\n",
    "                           \"]+\", flags=re.UNICODE)\n",
    "    return emoji_pattern.sub(r'', string)"
   ]
  },
  {
   "cell_type": "code",
   "execution_count": 42,
   "metadata": {
    "colab": {},
    "colab_type": "code",
    "id": "HfG002nn3WG_"
   },
   "outputs": [],
   "source": [
    "twitter_data['tweets'] = twitter_data['tweets'].apply(lambda text: remove_emoji(text))"
   ]
  },
  {
   "cell_type": "code",
   "execution_count": 43,
   "metadata": {
    "colab": {
     "base_uri": "https://localhost:8080/",
     "height": 119
    },
    "colab_type": "code",
    "id": "kKHpsZO33ZRs",
    "outputId": "80f251ee-a060-4358-8188-5d237af75672"
   },
   "outputs": [
    {
     "data": {
      "text/plain": [
       "0    Please guy adjust reality You know opposed med...\n",
       "1    First Name CORONA Surname VIRUS NickName Age 1...\n",
       "2    Liked YouTube Conversation Dad feat Jeetu Gajr...\n",
       "3                    Letâ€™s fight Virus Get well soon\n",
       "4    Aaj desh mein ko Phelne se Rokna bhut hi muski...\n",
       "Name: tweets, dtype: object"
      ]
     },
     "execution_count": 43,
     "metadata": {},
     "output_type": "execute_result"
    }
   ],
   "source": [
    "twitter_data['tweets'].head(5)"
   ]
  },
  {
   "cell_type": "markdown",
   "metadata": {
    "colab_type": "text",
    "id": "spVB5jOq6H7e"
   },
   "source": [
    "********** Converting Emoticons to Words"
   ]
  },
  {
   "cell_type": "code",
   "execution_count": 44,
   "metadata": {},
   "outputs": [],
   "source": [
    "#!pip install emoji"
   ]
  },
  {
   "cell_type": "code",
   "execution_count": 45,
   "metadata": {
    "colab": {},
    "colab_type": "code",
    "id": "2U3uAgLp4O3O"
   },
   "outputs": [],
   "source": [
    "import emoji"
   ]
  },
  {
   "cell_type": "markdown",
   "metadata": {
    "colab_type": "text",
    "id": "wTKqkr7W5vay"
   },
   "source": [
    "*** Defining Emoticons"
   ]
  },
  {
   "cell_type": "code",
   "execution_count": 46,
   "metadata": {
    "colab": {},
    "colab_type": "code",
    "id": "ojdV1n8X5upq"
   },
   "outputs": [],
   "source": [
    "EMOTICONS = {\n",
    "    u\":‑\\)\":\"Happy face or smiley\",\n",
    "    u\":\\)\":\"Happy face or smiley\",\n",
    "    u\":-\\]\":\"Happy face or smiley\",\n",
    "    u\":\\]\":\"Happy face or smiley\",\n",
    "    u\":-3\":\"Happy face smiley\",\n",
    "    u\":3\":\"Happy face smiley\",\n",
    "    u\":->\":\"Happy face smiley\",\n",
    "    u\":>\":\"Happy face smiley\",\n",
    "    u\"8-\\)\":\"Happy face smiley\",\n",
    "    u\":o\\)\":\"Happy face smiley\",\n",
    "    u\":-\\}\":\"Happy face smiley\",\n",
    "    u\":\\}\":\"Happy face smiley\",\n",
    "    u\":-\\)\":\"Happy face smiley\",\n",
    "    u\":c\\)\":\"Happy face smiley\",\n",
    "    u\":\\^\\)\":\"Happy face smiley\",\n",
    "    u\"=\\]\":\"Happy face smiley\",\n",
    "    u\"=\\)\":\"Happy face smiley\",\n",
    "    u\":‑D\":\"Laughing, big grin or laugh with glasses\",\n",
    "    u\":D\":\"Laughing, big grin or laugh with glasses\",\n",
    "    u\"8‑D\":\"Laughing, big grin or laugh with glasses\",\n",
    "    u\"8D\":\"Laughing, big grin or laugh with glasses\",\n",
    "    u\"X‑D\":\"Laughing, big grin or laugh with glasses\",\n",
    "    u\"XD\":\"Laughing, big grin or laugh with glasses\",\n",
    "    u\"=D\":\"Laughing, big grin or laugh with glasses\",\n",
    "    u\"=3\":\"Laughing, big grin or laugh with glasses\",\n",
    "    u\"B\\^D\":\"Laughing, big grin or laugh with glasses\",\n",
    "    u\":-\\)\\)\":\"Very happy\",\n",
    "    u\":‑\\(\":\"Frown, sad, andry or pouting\",\n",
    "    u\":-\\(\":\"Frown, sad, andry or pouting\",\n",
    "    u\":\\(\":\"Frown, sad, andry or pouting\",\n",
    "    u\":‑c\":\"Frown, sad, andry or pouting\",\n",
    "    u\":c\":\"Frown, sad, andry or pouting\",\n",
    "    u\":‑<\":\"Frown, sad, andry or pouting\",\n",
    "    u\":<\":\"Frown, sad, andry or pouting\",\n",
    "    u\":‑\\[\":\"Frown, sad, andry or pouting\",\n",
    "    u\":\\[\":\"Frown, sad, andry or pouting\",\n",
    "    u\":-\\|\\|\":\"Frown, sad, andry or pouting\",\n",
    "    u\">:\\[\":\"Frown, sad, andry or pouting\",\n",
    "    u\":\\{\":\"Frown, sad, andry or pouting\",\n",
    "    u\":@\":\"Frown, sad, andry or pouting\",\n",
    "    u\">:\\(\":\"Frown, sad, andry or pouting\",\n",
    "    u\":'‑\\(\":\"Crying\",\n",
    "    u\":'\\(\":\"Crying\",\n",
    "    u\":'‑\\)\":\"Tears of happiness\",\n",
    "    u\":'\\)\":\"Tears of happiness\",\n",
    "    u\"D‑':\":\"Horror\",\n",
    "    u\"D:<\":\"Disgust\",\n",
    "    u\"D:\":\"Sadness\",\n",
    "    u\"D8\":\"Great dismay\",\n",
    "    u\"D;\":\"Great dismay\",\n",
    "    u\"D=\":\"Great dismay\",\n",
    "    u\"DX\":\"Great dismay\",\n",
    "    u\":‑O\":\"Surprise\",\n",
    "    u\":O\":\"Surprise\",\n",
    "    u\":‑o\":\"Surprise\",\n",
    "    u\":o\":\"Surprise\",\n",
    "    u\":-0\":\"Shock\",\n",
    "    u\"8‑0\":\"Yawn\",\n",
    "    u\">:O\":\"Yawn\",\n",
    "    u\":-\\*\":\"Kiss\",\n",
    "    u\":\\*\":\"Kiss\",\n",
    "    u\":X\":\"Kiss\",\n",
    "    u\";‑\\)\":\"Wink or smirk\",\n",
    "    u\";\\)\":\"Wink or smirk\",\n",
    "    u\"\\*-\\)\":\"Wink or smirk\",\n",
    "    u\"\\*\\)\":\"Wink or smirk\",\n",
    "    u\";‑\\]\":\"Wink or smirk\",\n",
    "    u\";\\]\":\"Wink or smirk\",\n",
    "    u\";\\^\\)\":\"Wink or smirk\",\n",
    "    u\":‑,\":\"Wink or smirk\",\n",
    "    u\";D\":\"Wink or smirk\",\n",
    "    u\":‑P\":\"Tongue sticking out, cheeky, playful or blowing a raspberry\",\n",
    "    u\":P\":\"Tongue sticking out, cheeky, playful or blowing a raspberry\",\n",
    "    u\"X‑P\":\"Tongue sticking out, cheeky, playful or blowing a raspberry\",\n",
    "    u\"XP\":\"Tongue sticking out, cheeky, playful or blowing a raspberry\",\n",
    "    u\":‑Þ\":\"Tongue sticking out, cheeky, playful or blowing a raspberry\",\n",
    "    u\":Þ\":\"Tongue sticking out, cheeky, playful or blowing a raspberry\",\n",
    "    u\":b\":\"Tongue sticking out, cheeky, playful or blowing a raspberry\",\n",
    "    u\"d:\":\"Tongue sticking out, cheeky, playful or blowing a raspberry\",\n",
    "    u\"=p\":\"Tongue sticking out, cheeky, playful or blowing a raspberry\",\n",
    "    u\">:P\":\"Tongue sticking out, cheeky, playful or blowing a raspberry\",\n",
    "    u\":‑/\":\"Skeptical, annoyed, undecided, uneasy or hesitant\",\n",
    "    u\":/\":\"Skeptical, annoyed, undecided, uneasy or hesitant\",\n",
    "    u\":-[.]\":\"Skeptical, annoyed, undecided, uneasy or hesitant\",\n",
    "    u\">:[(\\\\\\)]\":\"Skeptical, annoyed, undecided, uneasy or hesitant\",\n",
    "    u\">:/\":\"Skeptical, annoyed, undecided, uneasy or hesitant\",\n",
    "    u\":[(\\\\\\)]\":\"Skeptical, annoyed, undecided, uneasy or hesitant\",\n",
    "    u\"=/\":\"Skeptical, annoyed, undecided, uneasy or hesitant\",\n",
    "    u\"=[(\\\\\\)]\":\"Skeptical, annoyed, undecided, uneasy or hesitant\",\n",
    "    u\":L\":\"Skeptical, annoyed, undecided, uneasy or hesitant\",\n",
    "    u\"=L\":\"Skeptical, annoyed, undecided, uneasy or hesitant\",\n",
    "    u\":S\":\"Skeptical, annoyed, undecided, uneasy or hesitant\",\n",
    "    u\":‑\\|\":\"Straight face\",\n",
    "    u\":\\|\":\"Straight face\",\n",
    "    u\":$\":\"Embarrassed or blushing\",\n",
    "    u\":‑x\":\"Sealed lips or wearing braces or tongue-tied\",\n",
    "    u\":x\":\"Sealed lips or wearing braces or tongue-tied\",\n",
    "    u\":‑#\":\"Sealed lips or wearing braces or tongue-tied\",\n",
    "    u\":#\":\"Sealed lips or wearing braces or tongue-tied\",\n",
    "    u\":‑&\":\"Sealed lips or wearing braces or tongue-tied\",\n",
    "    u\":&\":\"Sealed lips or wearing braces or tongue-tied\",\n",
    "    u\"O:‑\\)\":\"Angel, saint or innocent\",\n",
    "    u\"O:\\)\":\"Angel, saint or innocent\",\n",
    "    u\"0:‑3\":\"Angel, saint or innocent\",\n",
    "    u\"0:3\":\"Angel, saint or innocent\",\n",
    "    u\"0:‑\\)\":\"Angel, saint or innocent\",\n",
    "    u\"0:\\)\":\"Angel, saint or innocent\",\n",
    "    u\":‑b\":\"Tongue sticking out, cheeky, playful or blowing a raspberry\",\n",
    "    u\"0;\\^\\)\":\"Angel, saint or innocent\",\n",
    "    u\">:‑\\)\":\"Evil or devilish\",\n",
    "    u\">:\\)\":\"Evil or devilish\",\n",
    "    u\"\\}:‑\\)\":\"Evil or devilish\",\n",
    "    u\"\\}:\\)\":\"Evil or devilish\",\n",
    "    u\"3:‑\\)\":\"Evil or devilish\",\n",
    "    u\"3:\\)\":\"Evil or devilish\",\n",
    "    u\">;\\)\":\"Evil or devilish\",\n",
    "    u\"\\|;‑\\)\":\"Cool\",\n",
    "    u\"\\|‑O\":\"Bored\",\n",
    "    u\":‑J\":\"Tongue-in-cheek\",\n",
    "    u\"#‑\\)\":\"Party all night\",\n",
    "    u\"%‑\\)\":\"Drunk or confused\",\n",
    "    u\"%\\)\":\"Drunk or confused\",\n",
    "    u\":-###..\":\"Being sick\",\n",
    "    u\":###..\":\"Being sick\",\n",
    "    u\"<:‑\\|\":\"Dump\",\n",
    "    u\"\\(>_<\\)\":\"Troubled\",\n",
    "    u\"\\(>_<\\)>\":\"Troubled\",\n",
    "    u\"\\(';'\\)\":\"Baby\",\n",
    "    u\"\\(\\^\\^>``\":\"Nervous or Embarrassed or Troubled or Shy or Sweat drop\",\n",
    "    u\"\\(\\^_\\^;\\)\":\"Nervous or Embarrassed or Troubled or Shy or Sweat drop\",\n",
    "    u\"\\(-_-;\\)\":\"Nervous or Embarrassed or Troubled or Shy or Sweat drop\",\n",
    "    u\"\\(~_~;\\) \\(・\\.・;\\)\":\"Nervous or Embarrassed or Troubled or Shy or Sweat drop\",\n",
    "    u\"\\(-_-\\)zzz\":\"Sleeping\",\n",
    "    u\"\\(\\^_-\\)\":\"Wink\",\n",
    "    u\"\\(\\(\\+_\\+\\)\\)\":\"Confused\",\n",
    "    u\"\\(\\+o\\+\\)\":\"Confused\",\n",
    "    u\"\\(o\\|o\\)\":\"Ultraman\",\n",
    "    u\"\\^_\\^\":\"Joyful\",\n",
    "    u\"\\(\\^_\\^\\)/\":\"Joyful\",\n",
    "    u\"\\(\\^O\\^\\)／\":\"Joyful\",\n",
    "    u\"\\(\\^o\\^\\)／\":\"Joyful\",\n",
    "    u\"\\(__\\)\":\"Kowtow as a sign of respect, or dogeza for apology\",\n",
    "    u\"_\\(\\._\\.\\)_\":\"Kowtow as a sign of respect, or dogeza for apology\",\n",
    "    u\"<\\(_ _\\)>\":\"Kowtow as a sign of respect, or dogeza for apology\",\n",
    "    u\"<m\\(__\\)m>\":\"Kowtow as a sign of respect, or dogeza for apology\",\n",
    "    u\"m\\(__\\)m\":\"Kowtow as a sign of respect, or dogeza for apology\",\n",
    "    u\"m\\(_ _\\)m\":\"Kowtow as a sign of respect, or dogeza for apology\",\n",
    "    u\"\\('_'\\)\":\"Sad or Crying\",\n",
    "    u\"\\(/_;\\)\":\"Sad or Crying\",\n",
    "    u\"\\(T_T\\) \\(;_;\\)\":\"Sad or Crying\",\n",
    "    u\"\\(;_;\":\"Sad of Crying\",\n",
    "    u\"\\(;_:\\)\":\"Sad or Crying\",\n",
    "    u\"\\(;O;\\)\":\"Sad or Crying\",\n",
    "    u\"\\(:_;\\)\":\"Sad or Crying\",\n",
    "    u\"\\(ToT\\)\":\"Sad or Crying\",\n",
    "    u\";_;\":\"Sad or Crying\",\n",
    "    u\";-;\":\"Sad or Crying\",\n",
    "    u\";n;\":\"Sad or Crying\",\n",
    "    u\";;\":\"Sad or Crying\",\n",
    "    u\"Q\\.Q\":\"Sad or Crying\",\n",
    "    u\"T\\.T\":\"Sad or Crying\",\n",
    "    u\"QQ\":\"Sad or Crying\",\n",
    "    u\"Q_Q\":\"Sad or Crying\",\n",
    "    u\"\\(-\\.-\\)\":\"Shame\",\n",
    "    u\"\\(-_-\\)\":\"Shame\",\n",
    "    u\"\\(一一\\)\":\"Shame\",\n",
    "    u\"\\(；一_一\\)\":\"Shame\",\n",
    "    u\"\\(=_=\\)\":\"Tired\",\n",
    "    u\"\\(=\\^\\·\\^=\\)\":\"cat\",\n",
    "    u\"\\(=\\^\\·\\·\\^=\\)\":\"cat\",\n",
    "    u\"=_\\^=\t\":\"cat\",\n",
    "    u\"\\(\\.\\.\\)\":\"Looking down\",\n",
    "    u\"\\(\\._\\.\\)\":\"Looking down\",\n",
    "    u\"\\^m\\^\":\"Giggling with hand covering mouth\",\n",
    "    u\"\\(\\・\\・?\":\"Confusion\",\n",
    "    u\"\\(?_?\\)\":\"Confusion\",\n",
    "    u\">\\^_\\^<\":\"Normal Laugh\",\n",
    "    u\"<\\^!\\^>\":\"Normal Laugh\",\n",
    "    u\"\\^/\\^\":\"Normal Laugh\",\n",
    "    u\"\\（\\*\\^_\\^\\*）\" :\"Normal Laugh\",\n",
    "    u\"\\(\\^<\\^\\) \\(\\^\\.\\^\\)\":\"Normal Laugh\",\n",
    "    u\"\\(^\\^\\)\":\"Normal Laugh\",\n",
    "    u\"\\(\\^\\.\\^\\)\":\"Normal Laugh\",\n",
    "    u\"\\(\\^_\\^\\.\\)\":\"Normal Laugh\",\n",
    "    u\"\\(\\^_\\^\\)\":\"Normal Laugh\",\n",
    "    u\"\\(\\^\\^\\)\":\"Normal Laugh\",\n",
    "    u\"\\(\\^J\\^\\)\":\"Normal Laugh\",\n",
    "    u\"\\(\\*\\^\\.\\^\\*\\)\":\"Normal Laugh\",\n",
    "    u\"\\(\\^—\\^\\）\":\"Normal Laugh\",\n",
    "    u\"\\(#\\^\\.\\^#\\)\":\"Normal Laugh\",\n",
    "    u\"\\（\\^—\\^\\）\":\"Waving\",\n",
    "    u\"\\(;_;\\)/~~~\":\"Waving\",\n",
    "    u\"\\(\\^\\.\\^\\)/~~~\":\"Waving\",\n",
    "    u\"\\(-_-\\)/~~~ \\($\\·\\·\\)/~~~\":\"Waving\",\n",
    "    u\"\\(T_T\\)/~~~\":\"Waving\",\n",
    "    u\"\\(ToT\\)/~~~\":\"Waving\",\n",
    "    u\"\\(\\*\\^0\\^\\*\\)\":\"Excited\",\n",
    "    u\"\\(\\*_\\*\\)\":\"Amazed\",\n",
    "    u\"\\(\\*_\\*;\":\"Amazed\",\n",
    "    u\"\\(\\+_\\+\\) \\(@_@\\)\":\"Amazed\",\n",
    "    u\"\\(\\*\\^\\^\\)v\":\"Laughing,Cheerful\",\n",
    "    u\"\\(\\^_\\^\\)v\":\"Laughing,Cheerful\",\n",
    "    u\"\\(\\(d[-_-]b\\)\\)\":\"Headphones,Listening to music\",\n",
    "    u'\\(-\"-\\)':\"Worried\",\n",
    "    u\"\\(ーー;\\)\":\"Worried\",\n",
    "    u\"\\(\\^0_0\\^\\)\":\"Eyeglasses\",\n",
    "    u\"\\(\\＾ｖ\\＾\\)\":\"Happy\",\n",
    "    u\"\\(\\＾ｕ\\＾\\)\":\"Happy\",\n",
    "    u\"\\(\\^\\)o\\(\\^\\)\":\"Happy\",\n",
    "    u\"\\(\\^O\\^\\)\":\"Happy\",\n",
    "    u\"\\(\\^o\\^\\)\":\"Happy\",\n",
    "    u\"\\)\\^o\\^\\(\":\"Happy\",\n",
    "    u\":O o_O\":\"Surprised\",\n",
    "    u\"o_0\":\"Surprised\",\n",
    "    u\"o\\.O\":\"Surpised\",\n",
    "    u\"\\(o\\.o\\)\":\"Surprised\",\n",
    "    u\"oO\":\"Surprised\",\n",
    "    u\"\\(\\*￣m￣\\)\":\"Dissatisfied\",\n",
    "    u\"\\(‘A`\\)\":\"Snubbed or Deflated\"\n",
    "}"
   ]
  },
  {
   "cell_type": "code",
   "execution_count": 47,
   "metadata": {
    "colab": {},
    "colab_type": "code",
    "id": "4bxCxRf26AeW"
   },
   "outputs": [],
   "source": [
    "def convert_emoticons(text):\n",
    "    for emot in EMOTICONS:\n",
    "        text = re.sub(u'('+emot+')', \"_\".join(EMOTICONS[emot].replace(\",\",\"\").split()), text)\n",
    "    return text"
   ]
  },
  {
   "cell_type": "code",
   "execution_count": 48,
   "metadata": {
    "colab": {},
    "colab_type": "code",
    "id": "sssDKayq6L8X"
   },
   "outputs": [],
   "source": [
    "twitter_data['tweets'] = twitter_data['tweets'].apply(lambda text: convert_emoticons(text))"
   ]
  },
  {
   "cell_type": "code",
   "execution_count": 49,
   "metadata": {
    "colab": {
     "base_uri": "https://localhost:8080/",
     "height": 119
    },
    "colab_type": "code",
    "id": "uUVOafjJiLZP",
    "outputId": "6c3d02b6-69cb-4724-fb1a-4c7e390d03ed"
   },
   "outputs": [
    {
     "data": {
      "text/plain": [
       "0    Please guy adjust reality You know opposed med...\n",
       "1    First Name CORONA Surname VIRUS NickName Age 1...\n",
       "2    Liked YouTube Conversation Dad feat Jeetu Gajr...\n",
       "3                    Letâ€™s fight Virus Get well soon\n",
       "4    Aaj desh mein ko Phelne se Rokna bhut hi muski...\n",
       "Name: tweets, dtype: object"
      ]
     },
     "execution_count": 49,
     "metadata": {},
     "output_type": "execute_result"
    }
   ],
   "source": [
    "twitter_data['tweets'].head(5)"
   ]
  },
  {
   "cell_type": "markdown",
   "metadata": {
    "colab_type": "text",
    "id": "3xMEC2pgCuGe"
   },
   "source": [
    "Converting Chat Words"
   ]
  },
  {
   "cell_type": "markdown",
   "metadata": {
    "colab_type": "text",
    "id": "U-dJ77jxC1Mr"
   },
   "source": [
    "**** Defining the Dictionary"
   ]
  },
  {
   "cell_type": "code",
   "execution_count": 50,
   "metadata": {
    "colab": {},
    "colab_type": "code",
    "id": "Ytby70V_-SfU"
   },
   "outputs": [],
   "source": [
    "chat_words_str = \"\"\"\n",
    "AFAIK=As Far As I Know\n",
    "AFK=Away From Keyboard\n",
    "ASAP=As Soon As Possible\n",
    "ATK=At The Keyboard\n",
    "ATM=At The Moment\n",
    "A3=Anytime, Anywhere, Anyplace\n",
    "BAK=Back At Keyboard\n",
    "BBL=Be Back Later\n",
    "BBS=Be Back Soon\n",
    "BFN=Bye For Now\n",
    "B4N=Bye For Now\n",
    "BRB=Be Right Back\n",
    "BRT=Be Right There\n",
    "BTW=By The Way\n",
    "B4=Before\n",
    "B4N=Bye For Now\n",
    "CU=See You\n",
    "CUL8R=See You Later\n",
    "CYA=See You\n",
    "FAQ=Frequently Asked Questions\n",
    "FC=Fingers Crossed\n",
    "FWIW=For What It's Worth\n",
    "FYI=For Your Information\n",
    "GAL=Get A Life\n",
    "GG=Good Game\n",
    "GN=Good Night\n",
    "GMTA=Great Minds Think Alike\n",
    "GR8=Great!\n",
    "G9=Genius\n",
    "IC=I See\n",
    "ICQ=I Seek you (also a chat program)\n",
    "ILU=ILU: I Love You\n",
    "IMHO=In My Honest/Humble Opinion\n",
    "IMO=In My Opinion\n",
    "IOW=In Other Words\n",
    "IRL=In Real Life\n",
    "KISS=Keep It Simple, Stupid\n",
    "LDR=Long Distance Relationship\n",
    "LMAO=Laugh My A.. Off\n",
    "LOL=Laughing Out Loud\n",
    "LTNS=Long Time No See\n",
    "L8R=Later\n",
    "MTE=My Thoughts Exactly\n",
    "M8=Mate\n",
    "NRN=No Reply Necessary\n",
    "OIC=Oh I See\n",
    "PITA=Pain In The A..\n",
    "PRT=Party\n",
    "PRW=Parents Are Watching\n",
    "ROFL=Rolling On The Floor Laughing\n",
    "ROFLOL=Rolling On The Floor Laughing Out Loud\n",
    "ROTFLMAO=Rolling On The Floor Laughing My A.. Off\n",
    "SK8=Skate\n",
    "STATS=Your sex and age\n",
    "ASL=Age, Sex, Location\n",
    "THX=Thank You\n",
    "TTFN=Ta-Ta For Now!\n",
    "TTYL=Talk To You Later\n",
    "U=You\n",
    "U2=You Too\n",
    "U4E=Yours For Ever\n",
    "WB=Welcome Back\n",
    "WTF=What The F...\n",
    "WTG=Way To Go!\n",
    "WUF=Where Are You From?\n",
    "W8=Wait...\n",
    "7K=Sick:-D Laugher\n",
    "\"\"\""
   ]
  },
  {
   "cell_type": "code",
   "execution_count": 51,
   "metadata": {
    "colab": {},
    "colab_type": "code",
    "id": "7GBMcM6_Ctg0"
   },
   "outputs": [],
   "source": [
    "chat_words_map_dict = {}\n",
    "chat_words_list = []"
   ]
  },
  {
   "cell_type": "code",
   "execution_count": 52,
   "metadata": {
    "colab": {},
    "colab_type": "code",
    "id": "cIONMkHTDFjJ"
   },
   "outputs": [],
   "source": [
    "for line in chat_words_str.split(\"\\n\"):\n",
    "    if line != \"\":\n",
    "        cw = line.split(\"=\")[0]\n",
    "        cw_expanded = line.split(\"=\")[1]\n",
    "        chat_words_list.append(cw)\n",
    "        chat_words_map_dict[cw] = cw_expanded\n",
    "chat_words_list = set(chat_words_list)"
   ]
  },
  {
   "cell_type": "code",
   "execution_count": 53,
   "metadata": {
    "colab": {},
    "colab_type": "code",
    "id": "AoqCGk3zDJfa"
   },
   "outputs": [],
   "source": [
    "def chat_words_conversion(text):\n",
    "    new_text = []\n",
    "    for w in text.split():\n",
    "        if w.upper() in chat_words_list:\n",
    "            new_text.append(chat_words_map_dict[w.upper()])\n",
    "        else:\n",
    "            new_text.append(w)\n",
    "    return \" \".join(new_text)"
   ]
  },
  {
   "cell_type": "code",
   "execution_count": 54,
   "metadata": {
    "colab": {},
    "colab_type": "code",
    "id": "K6rKHkOEDakx"
   },
   "outputs": [],
   "source": [
    "twitter_data['tweets'] = twitter_data['tweets'].apply(lambda text: chat_words_conversion(text))"
   ]
  },
  {
   "cell_type": "code",
   "execution_count": 55,
   "metadata": {
    "colab": {
     "base_uri": "https://localhost:8080/",
     "height": 204
    },
    "colab_type": "code",
    "id": "XICVlv0b-FHq",
    "outputId": "ba8fc7a6-f174-4df4-dce4-3959be8f2c04"
   },
   "outputs": [
    {
     "data": {
      "text/plain": [
       "0    Please guy adjust reality You know opposed med...\n",
       "1    First Name CORONA Surname VIRUS NickName Age 1...\n",
       "2    Liked YouTube Conversation Dad feat Jeetu Gajr...\n",
       "3                    Letâ€™s fight Virus Get well soon\n",
       "4    Aaj desh mein ko Phelne se Rokna bhut hi muski...\n",
       "5    buy due FIFA shit Star Wars hard Iâ€™m shit CO...\n",
       "6    First death due Buldana Maharashtra Maharashtr...\n",
       "7    How handle crisis determine place world future...\n",
       "8                                shit fuckin sleep smh\n",
       "9         doesnt weather rich poverty What ðŸŒ¹ single\n",
       "Name: tweets, dtype: object"
      ]
     },
     "execution_count": 55,
     "metadata": {},
     "output_type": "execute_result"
    }
   ],
   "source": [
    "twitter_data['tweets'].head(10)"
   ]
  },
  {
   "cell_type": "markdown",
   "metadata": {
    "colab_type": "text",
    "id": "tLNtiEqSHS7K"
   },
   "source": [
    "Some more Cleansing using RE Library"
   ]
  },
  {
   "cell_type": "code",
   "execution_count": 56,
   "metadata": {
    "colab": {},
    "colab_type": "code",
    "id": "BCTvkqKiHJzy"
   },
   "outputs": [],
   "source": [
    "def clean_text(text):\n",
    "    text = re.sub(r'[^a-zA-Z\\']', ' ', text)\n",
    "    text = re.sub(r'[^\\x00-\\x7F]+', ' ', text)\n",
    "    text = text.lower()       \n",
    "    return text"
   ]
  },
  {
   "cell_type": "code",
   "execution_count": 57,
   "metadata": {
    "colab": {},
    "colab_type": "code",
    "id": "WVGaFwOdHaqu"
   },
   "outputs": [],
   "source": [
    "twitter_data['tweets'] = twitter_data['tweets'].apply(lambda text: clean_text(text))"
   ]
  },
  {
   "cell_type": "code",
   "execution_count": 58,
   "metadata": {
    "colab": {
     "base_uri": "https://localhost:8080/",
     "height": 204
    },
    "colab_type": "code",
    "id": "Qw2ufygQHolY",
    "outputId": "c3e55ece-6920-4a24-d515-5a7d72b9f30a"
   },
   "outputs": [
    {
     "data": {
      "text/plain": [
       "0    please guy adjust reality you know opposed med...\n",
       "1    first name corona surname virus nickname age  ...\n",
       "2    liked youtube conversation dad feat jeetu gajr...\n",
       "3                    let   s fight virus get well soon\n",
       "4    aaj desh mein ko phelne se rokna bhut hi muski...\n",
       "5    buy due fifa shit star wars hard i   m shit co...\n",
       "6    first death due buldana maharashtra maharashtr...\n",
       "7    how handle crisis determine place world future...\n",
       "8                                shit fuckin sleep smh\n",
       "9         doesnt weather rich poverty what      single\n",
       "Name: tweets, dtype: object"
      ]
     },
     "execution_count": 58,
     "metadata": {},
     "output_type": "execute_result"
    }
   ],
   "source": [
    "twitter_data['tweets'].head(10)"
   ]
  },
  {
   "cell_type": "code",
   "execution_count": 59,
   "metadata": {
    "colab": {},
    "colab_type": "code",
    "id": "iphrT0DgFoma"
   },
   "outputs": [],
   "source": [
    "num_words = twitter_data['tweets'].apply(lambda x: len(x.split()))\n",
    "num_words_mean, num_words_std = np.mean(num_words), np.std(num_words)\n",
    "\n",
    "num_sentences = twitter_data['tweets'].apply(lambda x: len(re.split( '~ ...' ,'~'.join(x.split('.')))))\n",
    "num_sentences_mean = np.mean(num_sentences)\n",
    "\n",
    "twitter_data['tweets'] = twitter_data['tweets'].str.replace(r'twitter',r' ')\n",
    "twitter_data['tweets'] = twitter_data['tweets'].str.replace(r'padmaja',r' ')\n",
    "twitter_data['tweets'] = twitter_data['tweets'].str.replace(r'joshi',r' ')\n",
    "twitter_data['tweets'] = twitter_data['tweets'].str.replace(r'please',r' ')\n",
    "twitter_data['tweets'] = twitter_data['tweets'].str.replace(r'healthkart',r' ')"
   ]
  },
  {
   "cell_type": "markdown",
   "metadata": {
    "colab_type": "text",
    "id": "_ibLx34moTWx"
   },
   "source": [
    "Remove extra spaces and Words less than 3 letters"
   ]
  },
  {
   "cell_type": "code",
   "execution_count": 60,
   "metadata": {
    "colab": {},
    "colab_type": "code",
    "id": "8IeJwB1ants9"
   },
   "outputs": [],
   "source": [
    "twitter_data['tweets'] = twitter_data['tweets'].str.replace(r'[ ]{2, }',r' ')\n",
    "twitter_data['tweets'] = twitter_data['tweets'].str.replace(r'\\b\\w{1,3}\\b', r'')"
   ]
  },
  {
   "cell_type": "code",
   "execution_count": 61,
   "metadata": {
    "colab": {
     "base_uri": "https://localhost:8080/",
     "height": 359
    },
    "colab_type": "code",
    "id": "olxxqWePIPD0",
    "outputId": "4420f2a1-8765-49a8-af1e-f82a72a9f98b"
   },
   "outputs": [
    {
     "data": {
      "text/html": [
       "<div>\n",
       "<style scoped>\n",
       "    .dataframe tbody tr th:only-of-type {\n",
       "        vertical-align: middle;\n",
       "    }\n",
       "\n",
       "    .dataframe tbody tr th {\n",
       "        vertical-align: top;\n",
       "    }\n",
       "\n",
       "    .dataframe thead th {\n",
       "        text-align: right;\n",
       "    }\n",
       "</style>\n",
       "<table border=\"1\" class=\"dataframe\">\n",
       "  <thead>\n",
       "    <tr style=\"text-align: right;\">\n",
       "      <th></th>\n",
       "      <th>Id</th>\n",
       "      <th>Timestamp</th>\n",
       "      <th>Source</th>\n",
       "      <th>Retwwet_Count</th>\n",
       "      <th>User_Name</th>\n",
       "      <th>tweets</th>\n",
       "    </tr>\n",
       "  </thead>\n",
       "  <tbody>\n",
       "    <tr>\n",
       "      <th>0</th>\n",
       "      <td>1244239930341100032</td>\n",
       "      <td>2020-03-29 12:28:10</td>\n",
       "      <td>Twitter Web App</td>\n",
       "      <td>0</td>\n",
       "      <td>Mamaa</td>\n",
       "      <td>adjust reality  know opposed medium tour  w...</td>\n",
       "    </tr>\n",
       "    <tr>\n",
       "      <th>1</th>\n",
       "      <td>1244239930123049984</td>\n",
       "      <td>2020-03-29 12:28:10</td>\n",
       "      <td>Twitter for Android</td>\n",
       "      <td>0</td>\n",
       "      <td>Opemi Dmh</td>\n",
       "      <td>first name corona surname virus nickname     n...</td>\n",
       "    </tr>\n",
       "    <tr>\n",
       "      <th>2</th>\n",
       "      <td>1244239929619680000</td>\n",
       "      <td>2020-03-29 12:28:10</td>\n",
       "      <td>IFTTT</td>\n",
       "      <td>0</td>\n",
       "      <td>Muhammad Iqbal Dar</td>\n",
       "      <td>liked youtube conversation  feat jeetu gajraj</td>\n",
       "    </tr>\n",
       "    <tr>\n",
       "      <th>3</th>\n",
       "      <td>1244239928919119872</td>\n",
       "      <td>2020-03-29 12:28:10</td>\n",
       "      <td>Twitter for iPhone</td>\n",
       "      <td>0</td>\n",
       "      <td>â™¥Dream 2021 ðŸ’™ Rache â™¥</td>\n",
       "      <td>fight virus  well soon</td>\n",
       "    </tr>\n",
       "    <tr>\n",
       "      <th>4</th>\n",
       "      <td>1244239928608740096</td>\n",
       "      <td>2020-03-29 12:28:10</td>\n",
       "      <td>Twitter for Android</td>\n",
       "      <td>0</td>\n",
       "      <td>Alaxender0687</td>\n",
       "      <td>desh mein  phelne  rokna bhut  muskil hbecaus...</td>\n",
       "    </tr>\n",
       "    <tr>\n",
       "      <th>5</th>\n",
       "      <td>1244239927728110080</td>\n",
       "      <td>2020-03-29 12:28:10</td>\n",
       "      <td>Twitter for iPhone</td>\n",
       "      <td>0</td>\n",
       "      <td>Realo</td>\n",
       "      <td>fifa shit star wars hard     shit  guess</td>\n",
       "    </tr>\n",
       "    <tr>\n",
       "      <th>6</th>\n",
       "      <td>1244239926553530112</td>\n",
       "      <td>2020-03-29 12:28:10</td>\n",
       "      <td>Twitter for iPhone</td>\n",
       "      <td>0</td>\n",
       "      <td>Tauseef Shaikh</td>\n",
       "      <td>first death  buldana maharashtra maharashtra s...</td>\n",
       "    </tr>\n",
       "    <tr>\n",
       "      <th>7</th>\n",
       "      <td>1244239922640240128</td>\n",
       "      <td>2020-03-29 12:28:09</td>\n",
       "      <td>Twitter for Android</td>\n",
       "      <td>0</td>\n",
       "      <td>Ashok Atluri</td>\n",
       "      <td>handle crisis determine place world future ex...</td>\n",
       "    </tr>\n",
       "    <tr>\n",
       "      <th>8</th>\n",
       "      <td>1244239922158080000</td>\n",
       "      <td>2020-03-29 12:28:08</td>\n",
       "      <td>Twitter for iPhone</td>\n",
       "      <td>0</td>\n",
       "      <td>HUNCHOFMR ðŸ’°</td>\n",
       "      <td>shit fuckin sleep</td>\n",
       "    </tr>\n",
       "    <tr>\n",
       "      <th>9</th>\n",
       "      <td>1244239922090970112</td>\n",
       "      <td>2020-03-29 12:28:08</td>\n",
       "      <td>Twitter for Android</td>\n",
       "      <td>0</td>\n",
       "      <td>Jacob Adoo</td>\n",
       "      <td>doesnt weather rich poverty what      single</td>\n",
       "    </tr>\n",
       "  </tbody>\n",
       "</table>\n",
       "</div>"
      ],
      "text/plain": [
       "                    Id            Timestamp               Source  \\\n",
       "0  1244239930341100032  2020-03-29 12:28:10      Twitter Web App   \n",
       "1  1244239930123049984  2020-03-29 12:28:10  Twitter for Android   \n",
       "2  1244239929619680000  2020-03-29 12:28:10                IFTTT   \n",
       "3  1244239928919119872  2020-03-29 12:28:10   Twitter for iPhone   \n",
       "4  1244239928608740096  2020-03-29 12:28:10  Twitter for Android   \n",
       "5  1244239927728110080  2020-03-29 12:28:10   Twitter for iPhone   \n",
       "6  1244239926553530112  2020-03-29 12:28:10   Twitter for iPhone   \n",
       "7  1244239922640240128  2020-03-29 12:28:09  Twitter for Android   \n",
       "8  1244239922158080000  2020-03-29 12:28:08   Twitter for iPhone   \n",
       "9  1244239922090970112  2020-03-29 12:28:08  Twitter for Android   \n",
       "\n",
       "   Retwwet_Count                     User_Name  \\\n",
       "0              0                         Mamaa   \n",
       "1              0                     Opemi Dmh   \n",
       "2              0            Muhammad Iqbal Dar   \n",
       "3              0  â™¥Dream 2021 ðŸ’™ Rache â™¥   \n",
       "4              0                 Alaxender0687   \n",
       "5              0                         Realo   \n",
       "6              0                Tauseef Shaikh   \n",
       "7              0                  Ashok Atluri   \n",
       "8              0                HUNCHOFMR ðŸ’°   \n",
       "9              0                    Jacob Adoo   \n",
       "\n",
       "                                              tweets  \n",
       "0     adjust reality  know opposed medium tour  w...  \n",
       "1  first name corona surname virus nickname     n...  \n",
       "2     liked youtube conversation  feat jeetu gajraj   \n",
       "3                             fight virus  well soon  \n",
       "4   desh mein  phelne  rokna bhut  muskil hbecaus...  \n",
       "5        fifa shit star wars hard     shit  guess     \n",
       "6  first death  buldana maharashtra maharashtra s...  \n",
       "7   handle crisis determine place world future ex...  \n",
       "8                                 shit fuckin sleep   \n",
       "9       doesnt weather rich poverty what      single  "
      ]
     },
     "execution_count": 61,
     "metadata": {},
     "output_type": "execute_result"
    }
   ],
   "source": [
    "twitter_data.head(10)"
   ]
  },
  {
   "cell_type": "code",
   "execution_count": 62,
   "metadata": {
    "colab": {
     "base_uri": "https://localhost:8080/",
     "height": 34
    },
    "colab_type": "code",
    "id": "3HNcgkqD_hei",
    "outputId": "5fb472a9-7142-478d-9aee-74591c44a316"
   },
   "outputs": [
    {
     "name": "stdout",
     "output_type": "stream",
     "text": [
      "(126031, 7)\n"
     ]
    }
   ],
   "source": [
    "twitter_data['text_length'] = [len(text.split(' ')) for text in twitter_data.tweets]\n",
    "print(twitter_data.shape)"
   ]
  },
  {
   "cell_type": "markdown",
   "metadata": {
    "colab_type": "text",
    "id": "KTcf1h4f7RgM"
   },
   "source": [
    "Dropping texts with length <3 and drop duplicates"
   ]
  },
  {
   "cell_type": "code",
   "execution_count": 63,
   "metadata": {
    "colab": {
     "base_uri": "https://localhost:8080/",
     "height": 34
    },
    "colab_type": "code",
    "id": "HWtfB_FR_jp-",
    "outputId": "7724801a-e8ae-4905-ebf0-db80e723ffc5"
   },
   "outputs": [
    {
     "name": "stdout",
     "output_type": "stream",
     "text": [
      "(89715, 7)\n"
     ]
    }
   ],
   "source": [
    "twitter_data = twitter_data[twitter_data['text_length']>2]\n",
    "twitter_data = twitter_data.drop_duplicates(subset=['tweets'])\n",
    "\n",
    "print(twitter_data.shape)"
   ]
  },
  {
   "cell_type": "code",
   "execution_count": 64,
   "metadata": {
    "colab": {
     "base_uri": "https://localhost:8080/",
     "height": 359
    },
    "colab_type": "code",
    "id": "lqj4LmaYELUR",
    "outputId": "9b4a75ed-a710-4b06-d2e5-9fd25b398cb6"
   },
   "outputs": [
    {
     "data": {
      "text/html": [
       "<div>\n",
       "<style scoped>\n",
       "    .dataframe tbody tr th:only-of-type {\n",
       "        vertical-align: middle;\n",
       "    }\n",
       "\n",
       "    .dataframe tbody tr th {\n",
       "        vertical-align: top;\n",
       "    }\n",
       "\n",
       "    .dataframe thead th {\n",
       "        text-align: right;\n",
       "    }\n",
       "</style>\n",
       "<table border=\"1\" class=\"dataframe\">\n",
       "  <thead>\n",
       "    <tr style=\"text-align: right;\">\n",
       "      <th></th>\n",
       "      <th>Id</th>\n",
       "      <th>Timestamp</th>\n",
       "      <th>Source</th>\n",
       "      <th>Retwwet_Count</th>\n",
       "      <th>User_Name</th>\n",
       "      <th>tweets</th>\n",
       "      <th>text_length</th>\n",
       "    </tr>\n",
       "  </thead>\n",
       "  <tbody>\n",
       "    <tr>\n",
       "      <th>0</th>\n",
       "      <td>1244239930341100032</td>\n",
       "      <td>2020-03-29 12:28:10</td>\n",
       "      <td>Twitter Web App</td>\n",
       "      <td>0</td>\n",
       "      <td>Mamaa</td>\n",
       "      <td>adjust reality  know opposed medium tour  w...</td>\n",
       "      <td>14</td>\n",
       "    </tr>\n",
       "    <tr>\n",
       "      <th>1</th>\n",
       "      <td>1244239930123049984</td>\n",
       "      <td>2020-03-29 12:28:10</td>\n",
       "      <td>Twitter for Android</td>\n",
       "      <td>0</td>\n",
       "      <td>Opemi Dmh</td>\n",
       "      <td>first name corona surname virus nickname     n...</td>\n",
       "      <td>34</td>\n",
       "    </tr>\n",
       "    <tr>\n",
       "      <th>2</th>\n",
       "      <td>1244239929619680000</td>\n",
       "      <td>2020-03-29 12:28:10</td>\n",
       "      <td>IFTTT</td>\n",
       "      <td>0</td>\n",
       "      <td>Muhammad Iqbal Dar</td>\n",
       "      <td>liked youtube conversation  feat jeetu gajraj</td>\n",
       "      <td>8</td>\n",
       "    </tr>\n",
       "    <tr>\n",
       "      <th>3</th>\n",
       "      <td>1244239928919119872</td>\n",
       "      <td>2020-03-29 12:28:10</td>\n",
       "      <td>Twitter for iPhone</td>\n",
       "      <td>0</td>\n",
       "      <td>â™¥Dream 2021 ðŸ’™ Rache â™¥</td>\n",
       "      <td>fight virus  well soon</td>\n",
       "      <td>9</td>\n",
       "    </tr>\n",
       "    <tr>\n",
       "      <th>4</th>\n",
       "      <td>1244239928608740096</td>\n",
       "      <td>2020-03-29 12:28:10</td>\n",
       "      <td>Twitter for Android</td>\n",
       "      <td>0</td>\n",
       "      <td>Alaxender0687</td>\n",
       "      <td>desh mein  phelne  rokna bhut  muskil hbecaus...</td>\n",
       "      <td>43</td>\n",
       "    </tr>\n",
       "    <tr>\n",
       "      <th>5</th>\n",
       "      <td>1244239927728110080</td>\n",
       "      <td>2020-03-29 12:28:10</td>\n",
       "      <td>Twitter for iPhone</td>\n",
       "      <td>0</td>\n",
       "      <td>Realo</td>\n",
       "      <td>fifa shit star wars hard     shit  guess</td>\n",
       "      <td>17</td>\n",
       "    </tr>\n",
       "    <tr>\n",
       "      <th>6</th>\n",
       "      <td>1244239926553530112</td>\n",
       "      <td>2020-03-29 12:28:10</td>\n",
       "      <td>Twitter for iPhone</td>\n",
       "      <td>0</td>\n",
       "      <td>Tauseef Shaikh</td>\n",
       "      <td>first death  buldana maharashtra maharashtra s...</td>\n",
       "      <td>12</td>\n",
       "    </tr>\n",
       "    <tr>\n",
       "      <th>7</th>\n",
       "      <td>1244239922640240128</td>\n",
       "      <td>2020-03-29 12:28:09</td>\n",
       "      <td>Twitter for Android</td>\n",
       "      <td>0</td>\n",
       "      <td>Ashok Atluri</td>\n",
       "      <td>handle crisis determine place world future ex...</td>\n",
       "      <td>10</td>\n",
       "    </tr>\n",
       "    <tr>\n",
       "      <th>8</th>\n",
       "      <td>1244239922158080000</td>\n",
       "      <td>2020-03-29 12:28:08</td>\n",
       "      <td>Twitter for iPhone</td>\n",
       "      <td>0</td>\n",
       "      <td>HUNCHOFMR ðŸ’°</td>\n",
       "      <td>shit fuckin sleep</td>\n",
       "      <td>4</td>\n",
       "    </tr>\n",
       "    <tr>\n",
       "      <th>9</th>\n",
       "      <td>1244239922090970112</td>\n",
       "      <td>2020-03-29 12:28:08</td>\n",
       "      <td>Twitter for Android</td>\n",
       "      <td>0</td>\n",
       "      <td>Jacob Adoo</td>\n",
       "      <td>doesnt weather rich poverty what      single</td>\n",
       "      <td>11</td>\n",
       "    </tr>\n",
       "  </tbody>\n",
       "</table>\n",
       "</div>"
      ],
      "text/plain": [
       "                    Id            Timestamp               Source  \\\n",
       "0  1244239930341100032  2020-03-29 12:28:10      Twitter Web App   \n",
       "1  1244239930123049984  2020-03-29 12:28:10  Twitter for Android   \n",
       "2  1244239929619680000  2020-03-29 12:28:10                IFTTT   \n",
       "3  1244239928919119872  2020-03-29 12:28:10   Twitter for iPhone   \n",
       "4  1244239928608740096  2020-03-29 12:28:10  Twitter for Android   \n",
       "5  1244239927728110080  2020-03-29 12:28:10   Twitter for iPhone   \n",
       "6  1244239926553530112  2020-03-29 12:28:10   Twitter for iPhone   \n",
       "7  1244239922640240128  2020-03-29 12:28:09  Twitter for Android   \n",
       "8  1244239922158080000  2020-03-29 12:28:08   Twitter for iPhone   \n",
       "9  1244239922090970112  2020-03-29 12:28:08  Twitter for Android   \n",
       "\n",
       "   Retwwet_Count                     User_Name  \\\n",
       "0              0                         Mamaa   \n",
       "1              0                     Opemi Dmh   \n",
       "2              0            Muhammad Iqbal Dar   \n",
       "3              0  â™¥Dream 2021 ðŸ’™ Rache â™¥   \n",
       "4              0                 Alaxender0687   \n",
       "5              0                         Realo   \n",
       "6              0                Tauseef Shaikh   \n",
       "7              0                  Ashok Atluri   \n",
       "8              0                HUNCHOFMR ðŸ’°   \n",
       "9              0                    Jacob Adoo   \n",
       "\n",
       "                                              tweets  text_length  \n",
       "0     adjust reality  know opposed medium tour  w...           14  \n",
       "1  first name corona surname virus nickname     n...           34  \n",
       "2     liked youtube conversation  feat jeetu gajraj             8  \n",
       "3                             fight virus  well soon            9  \n",
       "4   desh mein  phelne  rokna bhut  muskil hbecaus...           43  \n",
       "5        fifa shit star wars hard     shit  guess              17  \n",
       "6  first death  buldana maharashtra maharashtra s...           12  \n",
       "7   handle crisis determine place world future ex...           10  \n",
       "8                                 shit fuckin sleep             4  \n",
       "9       doesnt weather rich poverty what      single           11  "
      ]
     },
     "execution_count": 64,
     "metadata": {},
     "output_type": "execute_result"
    }
   ],
   "source": [
    "twitter_data.head(10)"
   ]
  },
  {
   "cell_type": "code",
   "execution_count": 65,
   "metadata": {
    "colab": {},
    "colab_type": "code",
    "id": "kXrr6cKr7p95"
   },
   "outputs": [],
   "source": [
    "twitter_data.to_csv('Compiled & Processed Data.csv')"
   ]
  },
  {
   "cell_type": "code",
   "execution_count": null,
   "metadata": {
    "colab": {},
    "colab_type": "code",
    "id": "FMLNohRa7qBv"
   },
   "outputs": [],
   "source": []
  }
 ],
 "metadata": {
  "accelerator": "GPU",
  "colab": {
   "name": "Twitter Analysis (HK) v3 .ipynb",
   "provenance": []
  },
  "kernelspec": {
   "display_name": "Python 3",
   "language": "python",
   "name": "python3"
  },
  "language_info": {
   "codemirror_mode": {
    "name": "ipython",
    "version": 3
   },
   "file_extension": ".py",
   "mimetype": "text/x-python",
   "name": "python",
   "nbconvert_exporter": "python",
   "pygments_lexer": "ipython3",
   "version": "3.7.3"
  }
 },
 "nbformat": 4,
 "nbformat_minor": 1
}
